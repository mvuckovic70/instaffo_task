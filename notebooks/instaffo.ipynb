{
 "cells": [
  {
   "cell_type": "markdown",
   "id": "0b8761be-02e0-4668-9b9d-27b3113fa880",
   "metadata": {},
   "source": [
    "# INIT"
   ]
  },
  {
   "cell_type": "code",
   "execution_count": 1,
   "id": "83fa9c44-3774-4997-be25-49f1d465990d",
   "metadata": {},
   "outputs": [],
   "source": [
    "import sklearn\n",
    "import pandas as pd\n",
    "import numpy as np\n",
    "import copy"
   ]
  },
  {
   "cell_type": "markdown",
   "id": "6c4d3380-25d0-4b86-8db7-53fd86ffe236",
   "metadata": {},
   "source": [
    "# LOAD DATA"
   ]
  },
  {
   "cell_type": "code",
   "execution_count": 2,
   "id": "585e9b8a-f422-429b-9009-a6a308fd84e6",
   "metadata": {},
   "outputs": [],
   "source": [
    "df = pd.read_json('/Users/milos/Downloads/instaffo_task/data.json').reset_index().rename(columns={'index' : 'idx'})"
   ]
  },
  {
   "cell_type": "code",
   "execution_count": 3,
   "id": "7b6955f2-1e34-46b4-96a4-c278b9e11a10",
   "metadata": {},
   "outputs": [
    {
     "data": {
      "text/html": [
       "<div>\n",
       "<style scoped>\n",
       "    .dataframe tbody tr th:only-of-type {\n",
       "        vertical-align: middle;\n",
       "    }\n",
       "\n",
       "    .dataframe tbody tr th {\n",
       "        vertical-align: top;\n",
       "    }\n",
       "\n",
       "    .dataframe thead th {\n",
       "        text-align: right;\n",
       "    }\n",
       "</style>\n",
       "<table border=\"1\" class=\"dataframe\">\n",
       "  <thead>\n",
       "    <tr style=\"text-align: right;\">\n",
       "      <th></th>\n",
       "      <th>idx</th>\n",
       "      <th>talent</th>\n",
       "      <th>job</th>\n",
       "      <th>label</th>\n",
       "    </tr>\n",
       "  </thead>\n",
       "  <tbody>\n",
       "    <tr>\n",
       "      <th>0</th>\n",
       "      <td>0</td>\n",
       "      <td>{'languages': [{'rating': 'C2', 'title': 'Germ...</td>\n",
       "      <td>{'languages': [{'title': 'German', 'rating': '...</td>\n",
       "      <td>True</td>\n",
       "    </tr>\n",
       "    <tr>\n",
       "      <th>1</th>\n",
       "      <td>1</td>\n",
       "      <td>{'languages': [{'rating': 'C2', 'title': 'Germ...</td>\n",
       "      <td>{'languages': [{'title': 'German', 'rating': '...</td>\n",
       "      <td>True</td>\n",
       "    </tr>\n",
       "    <tr>\n",
       "      <th>2</th>\n",
       "      <td>2</td>\n",
       "      <td>{'languages': [{'rating': 'C2', 'title': 'Engl...</td>\n",
       "      <td>{'languages': [{'title': 'German', 'rating': '...</td>\n",
       "      <td>True</td>\n",
       "    </tr>\n",
       "  </tbody>\n",
       "</table>\n",
       "</div>"
      ],
      "text/plain": [
       "   idx                                             talent  \\\n",
       "0    0  {'languages': [{'rating': 'C2', 'title': 'Germ...   \n",
       "1    1  {'languages': [{'rating': 'C2', 'title': 'Germ...   \n",
       "2    2  {'languages': [{'rating': 'C2', 'title': 'Engl...   \n",
       "\n",
       "                                                 job  label  \n",
       "0  {'languages': [{'title': 'German', 'rating': '...   True  \n",
       "1  {'languages': [{'title': 'German', 'rating': '...   True  \n",
       "2  {'languages': [{'title': 'German', 'rating': '...   True  "
      ]
     },
     "execution_count": 3,
     "metadata": {},
     "output_type": "execute_result"
    }
   ],
   "source": [
    "# taking a look at the data\n",
    "\n",
    "df.head(3)"
   ]
  },
  {
   "cell_type": "code",
   "execution_count": 4,
   "id": "4a4467f9-e0f0-4f48-8435-9b9f95aee9fa",
   "metadata": {},
   "outputs": [
    {
     "data": {
      "text/plain": [
       "(2000, 4)"
      ]
     },
     "execution_count": 4,
     "metadata": {},
     "output_type": "execute_result"
    }
   ],
   "source": [
    "# total records\n",
    "\n",
    "df.shape"
   ]
  },
  {
   "cell_type": "code",
   "execution_count": 5,
   "id": "7d710dc0-27e2-4ca2-9692-438bfeb90edc",
   "metadata": {},
   "outputs": [
    {
     "data": {
      "text/plain": [
       "label\n",
       "True     1000\n",
       "False    1000\n",
       "Name: count, dtype: int64"
      ]
     },
     "execution_count": 5,
     "metadata": {},
     "output_type": "execute_result"
    }
   ],
   "source": [
    "# class structure and distribution\n",
    "# here we see that we talk about a binary classification problem\n",
    "# since we have two classes with boolean valuee(s)\n",
    "# both classes are equally distributed\n",
    "# which reduces a risk of a class imbalance during the training process\n",
    "\n",
    "df.label.value_counts()"
   ]
  },
  {
   "cell_type": "markdown",
   "id": "ce7bc150-0e62-456f-a5f9-48249c56959b",
   "metadata": {},
   "source": [
    "## DATA STRUCTURE"
   ]
  },
  {
   "cell_type": "code",
   "execution_count": 6,
   "id": "99308e56-0774-48c7-ac9c-ecbf77ada92b",
   "metadata": {},
   "outputs": [
    {
     "data": {
      "text/plain": [
       "{'languages': [{'title': 'German', 'rating': 'C1', 'must_have': True},\n",
       "  {'title': 'English', 'rating': 'B2', 'must_have': True}],\n",
       " 'job_roles': ['frontend-developer'],\n",
       " 'seniorities': ['junior', 'midlevel'],\n",
       " 'max_salary': 70000,\n",
       " 'min_degree': 'none'}"
      ]
     },
     "execution_count": 6,
     "metadata": {},
     "output_type": "execute_result"
    }
   ],
   "source": [
    "# job data\n",
    "\n",
    "df['job'][0]"
   ]
  },
  {
   "cell_type": "code",
   "execution_count": 7,
   "id": "f2773229-6ac0-4903-a550-df0112e7ad25",
   "metadata": {},
   "outputs": [
    {
     "data": {
      "text/plain": [
       "{'languages': [{'rating': 'C2', 'title': 'German'},\n",
       "  {'rating': 'C2', 'title': 'English'},\n",
       "  {'rating': 'B2', 'title': 'French'},\n",
       "  {'rating': 'A2', 'title': 'Turkish'}],\n",
       " 'job_roles': ['frontend-developer',\n",
       "  'backend-developer',\n",
       "  'full-stack-developer',\n",
       "  'java-developer',\n",
       "  'mobile-developer'],\n",
       " 'seniority': 'junior',\n",
       " 'salary_expectation': 48000,\n",
       " 'degree': 'bachelor'}"
      ]
     },
     "execution_count": 7,
     "metadata": {},
     "output_type": "execute_result"
    }
   ],
   "source": [
    "# talent data\n",
    "\n",
    "df['talent'][0]"
   ]
  },
  {
   "cell_type": "markdown",
   "id": "a790e9b4-9db0-4937-ab78-60a99cf40a0e",
   "metadata": {},
   "source": [
    "# PROJECT STRUCTURE"
   ]
  },
  {
   "cell_type": "markdown",
   "id": "5df278b1-aaf4-4695-93d8-b33347c31684",
   "metadata": {},
   "source": [
    "1) business understanding\n",
    "2) data understanding\n",
    "3) preprocessing\n",
    "4) feature engineering\n",
    "5) data analytics\n",
    "6) data exploration\n",
    "7) ML modeling\n",
    "8) model evaluation\n",
    "9) creating github environment\n",
    "10) pushing model and other relevant files to the git\n",
    "11) create clean code & docstring and documentation"
   ]
  },
  {
   "cell_type": "markdown",
   "id": "233a0a68-ac4f-49c5-a550-95a75fd20078",
   "metadata": {},
   "source": [
    "## 1) BUSINESS UNDERSTANDING"
   ]
  },
  {
   "cell_type": "markdown",
   "id": "dae9e614-30fd-4ea7-b59d-c12882f8fe74",
   "metadata": {},
   "source": [
    "The goal of this task is:\n",
    "\n",
    "1) to match proper candidates with a proper job requirements\n",
    "2) to discover features affecting a decision for matching\n",
    "3) to rank candidates from best one using highest score as a criterion\n",
    "4) to filter out candidates who did not pass the matching logic\n"
   ]
  },
  {
   "cell_type": "markdown",
   "id": "a58e1513-f813-47d7-8e10-fe3491c375c2",
   "metadata": {},
   "source": [
    "## 2) DATA UNDERSTANDING\n",
    "\n",
    "Dataset consists of 3 columns:\n",
    "\n",
    "- job - contains a nested dict with job requirement criteria\n",
    "- talent - contains a nested dict with information about the talent which in structure corresponds job column\n",
    "- label - represents a binary class showing whether a talent matches job (True) or not (False)\n",
    "\""
   ]
  },
  {
   "cell_type": "markdown",
   "id": "12b0e002-afc1-4b0f-910f-499c1710e310",
   "metadata": {
    "jp-MarkdownHeadingCollapsed": true
   },
   "source": [
    "Internal structure of column job (job requirement)\n",
    "--------------------------------------------------\n",
    "\n",
    "- [languages] is a dict containing lanuage name (title), fluency level (rating) and must_have (boolean)\n",
    "- [job_roles] is a list containing one or more job roles, or job titles requested for the position\n",
    "- [seniorities] is a list of seniorities allowed for the particular position\n",
    "- [max_salary] is allowed max.salary for that position\n",
    "- [min_degree] is a single value as minimum allowed educational degree for that position\n",
    "\n",
    "Internal structure of column talent\n",
    "--------------------------------------------------\n",
    "\n",
    "- [languages] is a dict containing lanuage name (title), fluency level (rating) and must_have (boolean)\n",
    "- [job_roles] is a list of one or more roles a talent has had\n",
    "- [seniority] is a single seniority value of a talent\n",
    "- [expected_salary] is desired salary_expectation for that position\n",
    "- [degree] is a single educational degree of a talent\n"
   ]
  },
  {
   "cell_type": "markdown",
   "id": "ba2a8ca8-36e9-49eb-b1e6-f8ac705d4b3d",
   "metadata": {
    "jp-MarkdownHeadingCollapsed": true
   },
   "source": [
    "Notes\n",
    "------\n",
    "\n",
    "1) There are multiple seniorities in 'job - seniorities' entity, \n",
    "which might lead to a certain confusion which seniority level is actually desired.\n",
    "We have decided to go for the intuition: if there are different seniorities present, we'd argue that\n",
    "minimal mapped seniority value is enough but will compare this logic against the label class in data analysis step.\n",
    "In case there is \"none\" among other seniorities, we would speculate that no seniority is actually mandatory,\n",
    "while other seniorities present are good to have.\n",
    "\n",
    "3) Sometimes job language has a value \"must_have\" == False, meaning that this is a good to have, \n",
    "rather a compulsory requirement for a job.\n",
    "We'd speculate that if we have a \"must have\" == False, we'd ignore this language as a criterion\n",
    "\n",
    "4) Sometimes required job_roles contains multiple job roles, and sometimes talent roles can also contain multipls job roles.\n",
    "We'll establish the rule by which there is a match between talent and job roles if any of required job roles is found in talent roles\n"
   ]
  },
  {
   "cell_type": "markdown",
   "id": "35c02307-cfcc-413f-8ed6-e30ebddbd544",
   "metadata": {},
   "source": [
    "## 3) PREPROCESSING"
   ]
  },
  {
   "cell_type": "markdown",
   "id": "ff120c9d-498b-49cb-b016-223134b1280a",
   "metadata": {},
   "source": [
    "In order to get the dataset ready for data modeling, we need to map any categorical (textual) value given,\n",
    "provided it makes sense to do the mapping.\n",
    "\n",
    "3a) map categorical values to numerical ordered values in a dict:\n",
    "\n",
    "- language levels (to numerical ordered) going from none to C2 in ascenging order from 0 to 6\n",
    "- seniorities (to numerical ordered) going from none to seniot in acscending order from 0 to 3\n",
    "- degrees (to numerical ordered) going from none to doctorate in ascending order from 0 to 4\n",
    "\n",
    "3b) implement mapping in a dataset as new columns\n"
   ]
  },
  {
   "cell_type": "code",
   "execution_count": 8,
   "id": "4c158032-6dac-4d3a-ad32-7fffef38fb87",
   "metadata": {},
   "outputs": [],
   "source": [
    "# mapping dictionaries\n",
    "\n",
    "language_levels = {\n",
    "    'none' : 0,\n",
    "    'A1' : 1,\n",
    "    'A2' : 2,\n",
    "    'B1' : 3,\n",
    "    'B2' : 4,\n",
    "    'C1' : 5,\n",
    "    'C2' : 6  \n",
    "}\n",
    "\n",
    "seniorities = {\n",
    "    'none' : 0,\n",
    "    'junior' : 1,\n",
    "    'midlevel' : 2,\n",
    "    'senior' : 3\n",
    "}\n",
    "\n",
    "degrees = {\n",
    "    'none' : 0,\n",
    "    'apprenticeship' : 1,\n",
    "    'bachelor' : 2,\n",
    "    'master' : 3,\n",
    "    'doctorate' : 4  \n",
    "}\n"
   ]
  },
  {
   "cell_type": "code",
   "execution_count": 9,
   "id": "a3438b42-8ce7-4233-9f24-61d297801c51",
   "metadata": {},
   "outputs": [],
   "source": [
    "# mapping function\n",
    "\n",
    "def map_values(entry, language_levels, seniorities, degrees):\n",
    "    # deep copy which avoids modifying the original values\n",
    "    entry = copy.deepcopy(entry)\n",
    "    \n",
    "    # map language levels (a bit different function from the rest of mappimng functions with field being a dict)\n",
    "    for language in entry['languages']:\n",
    "        language['rating'] = language_levels.get(language['rating'], 0)\n",
    "    \n",
    "    # map talent seniority (single value for talent)\n",
    "    if 'seniority' in entry:\n",
    "        entry['seniority'] = seniorities.get(entry['seniority'], 0)\n",
    "    \n",
    "    # map talent educational degree (single value for talent)\n",
    "    if 'degree' in entry:\n",
    "        entry['degree'] = degrees.get(entry.get('degree', 'none'), 0)\n",
    "    \n",
    "    # map job seniorities (multiple values for job)\n",
    "    if 'seniorities' in entry:\n",
    "        entry['seniorities'] = [seniorities.get(s, 0) for s in entry['seniorities']]\n",
    "    \n",
    "    # map required min_degree (single value for job)\n",
    "    if 'min_degree' in entry:\n",
    "        entry['min_degree'] = degrees.get(entry.get('min_degree', 'none'), 0)\n",
    "    \n",
    "    return entry\n",
    "\n",
    "# Create new columns 'talent_mapped' and 'job_mapped' based on mapping dictionaries provided above\n",
    "\n",
    "df['talent_mapped'] = df['talent'].apply(lambda x: map_values(copy.deepcopy(x), language_levels, seniorities, degrees))\n",
    "\n",
    "df['job_mapped'] = df['job'].apply(lambda x: map_values(copy.deepcopy(x), language_levels, seniorities, degrees))\n"
   ]
  },
  {
   "cell_type": "code",
   "execution_count": null,
   "id": "3c1c6614-15ab-4959-ac7d-64d65a1eeba2",
   "metadata": {},
   "outputs": [],
   "source": [
    "# checking original vs mapped "
   ]
  },
  {
   "cell_type": "code",
   "execution_count": 13,
   "id": "3b5cb742-d837-4b3c-a937-74705a82228c",
   "metadata": {},
   "outputs": [
    {
     "data": {
      "text/plain": [
       "{'languages': [{'rating': 'C2', 'title': 'German'},\n",
       "  {'rating': 'C2', 'title': 'English'},\n",
       "  {'rating': 'B2', 'title': 'French'},\n",
       "  {'rating': 'A2', 'title': 'Turkish'}],\n",
       " 'job_roles': ['frontend-developer',\n",
       "  'backend-developer',\n",
       "  'full-stack-developer',\n",
       "  'java-developer',\n",
       "  'mobile-developer'],\n",
       " 'seniority': 'junior',\n",
       " 'salary_expectation': 48000,\n",
       " 'degree': 'bachelor'}"
      ]
     },
     "execution_count": 13,
     "metadata": {},
     "output_type": "execute_result"
    }
   ],
   "source": [
    "df['talent'][0]"
   ]
  },
  {
   "cell_type": "code",
   "execution_count": 11,
   "id": "6ab26094-d61b-4437-99b2-e11d39a33cdd",
   "metadata": {},
   "outputs": [
    {
     "data": {
      "text/plain": [
       "{'languages': [{'rating': 6, 'title': 'German'},\n",
       "  {'rating': 6, 'title': 'English'},\n",
       "  {'rating': 4, 'title': 'French'},\n",
       "  {'rating': 2, 'title': 'Turkish'}],\n",
       " 'job_roles': ['frontend-developer',\n",
       "  'backend-developer',\n",
       "  'full-stack-developer',\n",
       "  'java-developer',\n",
       "  'mobile-developer'],\n",
       " 'seniority': 1,\n",
       " 'salary_expectation': 48000,\n",
       " 'degree': 2}"
      ]
     },
     "execution_count": 11,
     "metadata": {},
     "output_type": "execute_result"
    }
   ],
   "source": [
    "df['talent_mapped'][0]"
   ]
  },
  {
   "cell_type": "markdown",
   "id": "45d27863-b373-46af-815a-0ac813ce41bf",
   "metadata": {},
   "source": [
    "Note:\n",
    "-----\n",
    "\n",
    "Here we can see that values of language levels, seniority and degree are succesfully replaced with ordered numercial values in a new column 'talent_mapped'"
   ]
  },
  {
   "cell_type": "markdown",
   "id": "a3c9c5fc-bed3-49ad-b3b4-556f6742d559",
   "metadata": {},
   "source": [
    "## 4) FEATURE EXTRACTION\n",
    "\n",
    "We are assuming that following features have the biggest importance in deciding whether a talent is a mtch or not:\n",
    "\n",
    "- language\n",
    "- seniority\n",
    "- degree\n",
    "- job roles\n",
    "- salary\n",
    "\n",
    "The idea is to create new 5 features as boolean values for each of features mentioned, respectively, based on roles we established above:\n",
    "('1' for match or '0' for no match):\n",
    "\n",
    "- language_match\n",
    "- seniority_match\n",
    "- degree_match\n",
    "- job_roles_match\n",
    "- salary_match\n",
    "\n",
    "That would be base to creating independent variables or inputs in model, while label would be dependent variable.\n"
   ]
  },
  {
   "cell_type": "code",
   "execution_count": 14,
   "id": "d115a0bc-93c3-453f-9b1d-8ca9070d8a87",
   "metadata": {},
   "outputs": [],
   "source": [
    "# creating seniority matching criterion:\n",
    "# if multiple seniorities are given, take minimum required seniority\n",
    "\n",
    "df['required_min_seniority'] =[min(df['job_mapped'][x]['seniorities']) for x in range(0, df.shape[0])]\n",
    "df['talent_seniority'] =[df['talent_mapped'][x]['seniority'] for x in range(0, df.shape[0])]\n",
    "df['seniority_match'] = np.where(df.talent_seniority >= df.required_min_seniority, 1 ,0)\n",
    "\n",
    "# create educational degree matching criterion\n",
    "# if talent degree has same or better educational degree from the one required in job, we have a match\n",
    "\n",
    "df['required_min_degree'] = [df['job_mapped'][x]['min_degree'] for x in range(0, df.shape[0])]\n",
    "df['talent_degree'] = [df['talent_mapped'][x]['degree'] for x in range(0, df.shape[0])]\n",
    "df['degree_match'] = np.where(df.talent_degree >= df.required_min_degree, 1 ,0)\n"
   ]
  },
  {
   "cell_type": "code",
   "execution_count": 15,
   "id": "215cfc9f-d146-4b4b-baea-2e09abc675b1",
   "metadata": {},
   "outputs": [],
   "source": [
    "# create language levels matching criterion\n",
    "# the language criterion exists only if a column \"must_have\" for particular language has a value True\n",
    "# in that case, required language fluency levels are matched against language levels of a talent\n",
    "\n",
    "def check_language_match(talent_languages, job_languages):\n",
    "    # creating a dictionary for talent language levels\n",
    "    talent_language_dict = {lang['title']: lang['rating'] for lang in talent_languages}\n",
    "    \n",
    "    # check if all required job languages are matched by talent languages\n",
    "    for job_language in job_languages:\n",
    "        if job_language['must_have']:\n",
    "            job_title = job_language['title']\n",
    "            job_rating = job_language['rating']\n",
    "            if talent_language_dict.get(job_title, 0) < job_rating:\n",
    "                return 0\n",
    "    return 1\n",
    "\n",
    "df['language_match'] = df.apply(lambda row: check_language_match(row['talent_mapped']['languages'], \n",
    "                                                                 row['job_mapped']['languages']), axis=1)\n"
   ]
  },
  {
   "cell_type": "code",
   "execution_count": 16,
   "id": "15c061f2-f6ac-4a58-8bf4-8c7428bfb108",
   "metadata": {},
   "outputs": [],
   "source": [
    "# creating a job roles matching criterion\n",
    "# since both job roles are present in talent and in job columns in a form of dict,\n",
    "# the rule is: if talent has at least one job role which matches with all required roles, we have a match\n",
    "\n",
    "def check_job_role_match(talent_job_roles, job_job_roles):\n",
    "    # return any(role in job_job_roles for role in talent_job_roles)\n",
    "    if any(role in job_job_roles for role in talent_job_roles):\n",
    "        return 1\n",
    "    return 0\n",
    "\n",
    "# check role(s) match\n",
    "\n",
    "df['job_role_match'] = df.apply(lambda row: check_job_role_match(row['talent_mapped']['job_roles'], \n",
    "                                                                 row['job_mapped']['job_roles']), axis=1)\n"
   ]
  },
  {
   "cell_type": "code",
   "execution_count": 17,
   "id": "36ce4a7f-9c17-46c1-b424-b6e2aff06576",
   "metadata": {},
   "outputs": [],
   "source": [
    "# creating a salary matching criterion\n",
    "# if salary expectation of a talent is larger than job allowed max.salary, we have a match\n",
    "\n",
    "df['salary_talent'] = [df['talent'][x]['salary_expectation'] for x in range(0, df.shape[0])]\n",
    "df['salary_job'] = [df['job'][x]['max_salary'] for x in range(0, df.shape[0])]\n",
    "df['salary_match'] = np.where(df.salary_job >= df.salary_talent, 1 ,0)\n"
   ]
  },
  {
   "cell_type": "code",
   "execution_count": 18,
   "id": "0d6fde5b-ebea-47b0-9c8a-1f156f49fdc1",
   "metadata": {},
   "outputs": [],
   "source": [
    "# converting label to numerical value\n",
    "\n",
    "df['label'] = np.where(df.label==False, 0 ,1)\n"
   ]
  },
  {
   "cell_type": "code",
   "execution_count": 19,
   "id": "8c046451-a7cb-43d8-ad04-1e4be6a43f87",
   "metadata": {},
   "outputs": [
    {
     "data": {
      "text/html": [
       "<div>\n",
       "<style scoped>\n",
       "    .dataframe tbody tr th:only-of-type {\n",
       "        vertical-align: middle;\n",
       "    }\n",
       "\n",
       "    .dataframe tbody tr th {\n",
       "        vertical-align: top;\n",
       "    }\n",
       "\n",
       "    .dataframe thead th {\n",
       "        text-align: right;\n",
       "    }\n",
       "</style>\n",
       "<table border=\"1\" class=\"dataframe\">\n",
       "  <thead>\n",
       "    <tr style=\"text-align: right;\">\n",
       "      <th></th>\n",
       "      <th>job</th>\n",
       "      <th>talent</th>\n",
       "      <th>language_match</th>\n",
       "      <th>job_role_match</th>\n",
       "      <th>degree_match</th>\n",
       "      <th>seniority_match</th>\n",
       "      <th>salary_match</th>\n",
       "      <th>label</th>\n",
       "    </tr>\n",
       "  </thead>\n",
       "  <tbody>\n",
       "    <tr>\n",
       "      <th>270</th>\n",
       "      <td>{'languages': [{'title': 'German', 'rating': '...</td>\n",
       "      <td>{'languages': [{'rating': 'C2', 'title': 'Germ...</td>\n",
       "      <td>1</td>\n",
       "      <td>1</td>\n",
       "      <td>1</td>\n",
       "      <td>1</td>\n",
       "      <td>0</td>\n",
       "      <td>1</td>\n",
       "    </tr>\n",
       "    <tr>\n",
       "      <th>1169</th>\n",
       "      <td>{'languages': [{'title': 'German', 'rating': '...</td>\n",
       "      <td>{'languages': [{'rating': 'B2', 'title': 'Engl...</td>\n",
       "      <td>0</td>\n",
       "      <td>0</td>\n",
       "      <td>0</td>\n",
       "      <td>1</td>\n",
       "      <td>0</td>\n",
       "      <td>0</td>\n",
       "    </tr>\n",
       "    <tr>\n",
       "      <th>1749</th>\n",
       "      <td>{'languages': [{'title': 'German', 'rating': '...</td>\n",
       "      <td>{'languages': [{'rating': 'C2', 'title': 'Germ...</td>\n",
       "      <td>1</td>\n",
       "      <td>0</td>\n",
       "      <td>0</td>\n",
       "      <td>1</td>\n",
       "      <td>1</td>\n",
       "      <td>0</td>\n",
       "    </tr>\n",
       "    <tr>\n",
       "      <th>16</th>\n",
       "      <td>{'languages': [{'title': 'German', 'rating': '...</td>\n",
       "      <td>{'languages': [{'rating': 'C2', 'title': 'Germ...</td>\n",
       "      <td>1</td>\n",
       "      <td>1</td>\n",
       "      <td>1</td>\n",
       "      <td>1</td>\n",
       "      <td>1</td>\n",
       "      <td>1</td>\n",
       "    </tr>\n",
       "    <tr>\n",
       "      <th>328</th>\n",
       "      <td>{'languages': [{'title': 'German', 'rating': '...</td>\n",
       "      <td>{'languages': [{'rating': 'C2', 'title': 'Engl...</td>\n",
       "      <td>1</td>\n",
       "      <td>1</td>\n",
       "      <td>1</td>\n",
       "      <td>1</td>\n",
       "      <td>0</td>\n",
       "      <td>1</td>\n",
       "    </tr>\n",
       "    <tr>\n",
       "      <th>1344</th>\n",
       "      <td>{'languages': [{'title': 'German', 'rating': '...</td>\n",
       "      <td>{'languages': [{'rating': 'C2', 'title': 'Germ...</td>\n",
       "      <td>1</td>\n",
       "      <td>0</td>\n",
       "      <td>0</td>\n",
       "      <td>0</td>\n",
       "      <td>0</td>\n",
       "      <td>0</td>\n",
       "    </tr>\n",
       "    <tr>\n",
       "      <th>648</th>\n",
       "      <td>{'languages': [{'title': 'German', 'rating': '...</td>\n",
       "      <td>{'languages': [{'rating': 'C2', 'title': 'Germ...</td>\n",
       "      <td>1</td>\n",
       "      <td>1</td>\n",
       "      <td>1</td>\n",
       "      <td>1</td>\n",
       "      <td>1</td>\n",
       "      <td>1</td>\n",
       "    </tr>\n",
       "    <tr>\n",
       "      <th>1333</th>\n",
       "      <td>{'languages': [{'title': 'German', 'rating': '...</td>\n",
       "      <td>{'languages': [{'rating': 'C2', 'title': 'Germ...</td>\n",
       "      <td>1</td>\n",
       "      <td>1</td>\n",
       "      <td>0</td>\n",
       "      <td>1</td>\n",
       "      <td>0</td>\n",
       "      <td>0</td>\n",
       "    </tr>\n",
       "    <tr>\n",
       "      <th>1342</th>\n",
       "      <td>{'languages': [{'title': 'German', 'rating': '...</td>\n",
       "      <td>{'languages': [{'rating': 'B2', 'title': 'Germ...</td>\n",
       "      <td>0</td>\n",
       "      <td>0</td>\n",
       "      <td>0</td>\n",
       "      <td>0</td>\n",
       "      <td>0</td>\n",
       "      <td>0</td>\n",
       "    </tr>\n",
       "    <tr>\n",
       "      <th>1448</th>\n",
       "      <td>{'languages': [{'title': 'German', 'rating': '...</td>\n",
       "      <td>{'languages': [{'rating': 'B1', 'title': 'Germ...</td>\n",
       "      <td>0</td>\n",
       "      <td>1</td>\n",
       "      <td>0</td>\n",
       "      <td>1</td>\n",
       "      <td>0</td>\n",
       "      <td>0</td>\n",
       "    </tr>\n",
       "  </tbody>\n",
       "</table>\n",
       "</div>"
      ],
      "text/plain": [
       "                                                    job  \\\n",
       "270   {'languages': [{'title': 'German', 'rating': '...   \n",
       "1169  {'languages': [{'title': 'German', 'rating': '...   \n",
       "1749  {'languages': [{'title': 'German', 'rating': '...   \n",
       "16    {'languages': [{'title': 'German', 'rating': '...   \n",
       "328   {'languages': [{'title': 'German', 'rating': '...   \n",
       "1344  {'languages': [{'title': 'German', 'rating': '...   \n",
       "648   {'languages': [{'title': 'German', 'rating': '...   \n",
       "1333  {'languages': [{'title': 'German', 'rating': '...   \n",
       "1342  {'languages': [{'title': 'German', 'rating': '...   \n",
       "1448  {'languages': [{'title': 'German', 'rating': '...   \n",
       "\n",
       "                                                 talent  language_match  \\\n",
       "270   {'languages': [{'rating': 'C2', 'title': 'Germ...               1   \n",
       "1169  {'languages': [{'rating': 'B2', 'title': 'Engl...               0   \n",
       "1749  {'languages': [{'rating': 'C2', 'title': 'Germ...               1   \n",
       "16    {'languages': [{'rating': 'C2', 'title': 'Germ...               1   \n",
       "328   {'languages': [{'rating': 'C2', 'title': 'Engl...               1   \n",
       "1344  {'languages': [{'rating': 'C2', 'title': 'Germ...               1   \n",
       "648   {'languages': [{'rating': 'C2', 'title': 'Germ...               1   \n",
       "1333  {'languages': [{'rating': 'C2', 'title': 'Germ...               1   \n",
       "1342  {'languages': [{'rating': 'B2', 'title': 'Germ...               0   \n",
       "1448  {'languages': [{'rating': 'B1', 'title': 'Germ...               0   \n",
       "\n",
       "      job_role_match  degree_match  seniority_match  salary_match  label  \n",
       "270                1             1                1             0      1  \n",
       "1169               0             0                1             0      0  \n",
       "1749               0             0                1             1      0  \n",
       "16                 1             1                1             1      1  \n",
       "328                1             1                1             0      1  \n",
       "1344               0             0                0             0      0  \n",
       "648                1             1                1             1      1  \n",
       "1333               1             0                1             0      0  \n",
       "1342               0             0                0             0      0  \n",
       "1448               1             0                1             0      0  "
      ]
     },
     "execution_count": 19,
     "metadata": {},
     "output_type": "execute_result"
    }
   ],
   "source": [
    "# displaying the base of model inputs\n",
    "\n",
    "df[['job', 'talent', 'language_match', 'job_role_match', 'degree_match', 'seniority_match', 'salary_match', 'label']].sample(10)"
   ]
  },
  {
   "cell_type": "markdown",
   "id": "fdee5cd5-55d8-4763-a7c6-a7940e051500",
   "metadata": {},
   "source": [
    "##  5) DATA ANALYSIS"
   ]
  },
  {
   "cell_type": "code",
   "execution_count": 22,
   "id": "0d0b6330-33c7-4ed5-8062-5dc7a394f165",
   "metadata": {},
   "outputs": [],
   "source": [
    "# we want to check whether established rules are meaningful,\n",
    "# thus we create two new datasets:\n",
    "\n",
    "# 1) \n",
    "\n",
    "# dataset with label set as False, which implements a rule that\n",
    "# if any given criterion above is not match,\n",
    "# then talent don't match\n",
    "\n",
    "negatives = df[\n",
    "    (df.label==0) & \n",
    "    ((df.seniority_match==0) |\n",
    "    (df.degree_match==0) |\n",
    "    (df.language_match==0) |\n",
    "    (df.salary_match==0) |\n",
    "    (df.job_role_match==0))\n",
    "].idx.tolist()\n",
    "\n",
    "# 2)\n",
    "\n",
    "# dataset with label set as True, which implements a rule that\n",
    "# if all given criterions do match,\n",
    "# then talent is a match\n",
    "\n",
    "positives = df[\n",
    "    (df.label==1) & \n",
    "    ((df.seniority_match == 1) &\n",
    "    (df.degree_match == 1) &\n",
    "    (df.language_match==1) &\n",
    "    (df.salary_match==1) &\n",
    "    (df.job_role_match==1))\n",
    "].idx.tolist()\n",
    "\n"
   ]
  },
  {
   "cell_type": "code",
   "execution_count": null,
   "id": "04bc4deb-e175-46f2-b54b-3c692bb64ca3",
   "metadata": {},
   "outputs": [],
   "source": [
    "# with these two datasets we want to check whether our established rules have a ground\n",
    "\n",
    "# we collect both datasets\n",
    "idx_recognizes = negatives + positives\n",
    "\n",
    "# we create third dataset showing cases where our rules are not ok\n",
    "mismatches = df[~df.idx.isin(idx_recognizes)]\\\n",
    "[['idx', 'seniority_match', 'degree_match', 'language_match', 'job_role_match', 'salary_match', 'label']]\n"
   ]
  },
  {
   "cell_type": "code",
   "execution_count": 32,
   "id": "1a047513-213b-44a5-b251-692393f8b6cd",
   "metadata": {},
   "outputs": [
    {
     "name": "stdout",
     "output_type": "stream",
     "text": [
      "Number of records confirming hypotheses that our rules are adequate: 1804 ( 90.2 %)\n",
      "Number of records which do not follow pattern of rules established: 196 ( 9.8 %)\n"
     ]
    }
   ],
   "source": [
    "print('Number of records confirming hypotheses that our rules are adequate:', len(idx_recognizes), '(', \n",
    "      (len(idx_recognizes)/df.shape[0])*100,'%)')\n",
    "\n",
    "print('Number of records which do not follow pattern of rules established:', len(mismatches.idx.tolist()),  '(', \n",
    "      (len(mismatches.idx.tolist())/df.shape[0])*100,'%)')"
   ]
  },
  {
   "cell_type": "markdown",
   "id": "d3a51455-0afa-4861-b396-896000399763",
   "metadata": {},
   "source": [
    "We now want to create a little outlier analysis, in order to find the cause of mismatched records not aligned with established rules.\n"
   ]
  },
  {
   "cell_type": "code",
   "execution_count": 34,
   "id": "35802eb3-5b7d-4290-8da3-5ce1dfdae4d2",
   "metadata": {},
   "outputs": [
    {
     "data": {
      "text/html": [
       "<div>\n",
       "<style scoped>\n",
       "    .dataframe tbody tr th:only-of-type {\n",
       "        vertical-align: middle;\n",
       "    }\n",
       "\n",
       "    .dataframe tbody tr th {\n",
       "        vertical-align: top;\n",
       "    }\n",
       "\n",
       "    .dataframe thead th {\n",
       "        text-align: right;\n",
       "    }\n",
       "</style>\n",
       "<table border=\"1\" class=\"dataframe\">\n",
       "  <thead>\n",
       "    <tr style=\"text-align: right;\">\n",
       "      <th></th>\n",
       "      <th>idx</th>\n",
       "      <th>seniority_match</th>\n",
       "      <th>degree_match</th>\n",
       "      <th>language_match</th>\n",
       "      <th>job_role_match</th>\n",
       "      <th>salary_match</th>\n",
       "      <th>label</th>\n",
       "    </tr>\n",
       "  </thead>\n",
       "  <tbody>\n",
       "    <tr>\n",
       "      <th>1038</th>\n",
       "      <td>1038</td>\n",
       "      <td>1</td>\n",
       "      <td>1</td>\n",
       "      <td>1</td>\n",
       "      <td>1</td>\n",
       "      <td>1</td>\n",
       "      <td>0</td>\n",
       "    </tr>\n",
       "    <tr>\n",
       "      <th>1054</th>\n",
       "      <td>1054</td>\n",
       "      <td>1</td>\n",
       "      <td>1</td>\n",
       "      <td>1</td>\n",
       "      <td>1</td>\n",
       "      <td>1</td>\n",
       "      <td>0</td>\n",
       "    </tr>\n",
       "    <tr>\n",
       "      <th>1183</th>\n",
       "      <td>1183</td>\n",
       "      <td>1</td>\n",
       "      <td>1</td>\n",
       "      <td>1</td>\n",
       "      <td>1</td>\n",
       "      <td>1</td>\n",
       "      <td>0</td>\n",
       "    </tr>\n",
       "    <tr>\n",
       "      <th>1722</th>\n",
       "      <td>1722</td>\n",
       "      <td>1</td>\n",
       "      <td>1</td>\n",
       "      <td>1</td>\n",
       "      <td>1</td>\n",
       "      <td>1</td>\n",
       "      <td>0</td>\n",
       "    </tr>\n",
       "    <tr>\n",
       "      <th>1803</th>\n",
       "      <td>1803</td>\n",
       "      <td>1</td>\n",
       "      <td>1</td>\n",
       "      <td>1</td>\n",
       "      <td>1</td>\n",
       "      <td>1</td>\n",
       "      <td>0</td>\n",
       "    </tr>\n",
       "    <tr>\n",
       "      <th>1849</th>\n",
       "      <td>1849</td>\n",
       "      <td>1</td>\n",
       "      <td>1</td>\n",
       "      <td>1</td>\n",
       "      <td>1</td>\n",
       "      <td>1</td>\n",
       "      <td>0</td>\n",
       "    </tr>\n",
       "    <tr>\n",
       "      <th>1903</th>\n",
       "      <td>1903</td>\n",
       "      <td>1</td>\n",
       "      <td>1</td>\n",
       "      <td>1</td>\n",
       "      <td>1</td>\n",
       "      <td>1</td>\n",
       "      <td>0</td>\n",
       "    </tr>\n",
       "    <tr>\n",
       "      <th>1925</th>\n",
       "      <td>1925</td>\n",
       "      <td>1</td>\n",
       "      <td>1</td>\n",
       "      <td>1</td>\n",
       "      <td>1</td>\n",
       "      <td>1</td>\n",
       "      <td>0</td>\n",
       "    </tr>\n",
       "    <tr>\n",
       "      <th>1973</th>\n",
       "      <td>1973</td>\n",
       "      <td>1</td>\n",
       "      <td>1</td>\n",
       "      <td>1</td>\n",
       "      <td>1</td>\n",
       "      <td>1</td>\n",
       "      <td>0</td>\n",
       "    </tr>\n",
       "  </tbody>\n",
       "</table>\n",
       "</div>"
      ],
      "text/plain": [
       "       idx  seniority_match  degree_match  language_match  job_role_match  \\\n",
       "1038  1038                1             1               1               1   \n",
       "1054  1054                1             1               1               1   \n",
       "1183  1183                1             1               1               1   \n",
       "1722  1722                1             1               1               1   \n",
       "1803  1803                1             1               1               1   \n",
       "1849  1849                1             1               1               1   \n",
       "1903  1903                1             1               1               1   \n",
       "1925  1925                1             1               1               1   \n",
       "1973  1973                1             1               1               1   \n",
       "\n",
       "      salary_match  label  \n",
       "1038             1      0  \n",
       "1054             1      0  \n",
       "1183             1      0  \n",
       "1722             1      0  \n",
       "1803             1      0  \n",
       "1849             1      0  \n",
       "1903             1      0  \n",
       "1925             1      0  \n",
       "1973             1      0  "
      ]
     },
     "execution_count": 34,
     "metadata": {},
     "output_type": "execute_result"
    }
   ],
   "source": [
    "# we take 196 misligned records.\n",
    "# first we take all misaligned records with label 0:\n",
    "# some of profiles, despite having all qualifications, have not passed initial matching for some reason,\n",
    "# unknown to us at this moment\n",
    "\n",
    "mismatches[mismatches.label==0]\n"
   ]
  },
  {
   "cell_type": "code",
   "execution_count": 35,
   "id": "d45b6e08-7ee3-4c3d-acf3-41ebc5f7db62",
   "metadata": {},
   "outputs": [
    {
     "data": {
      "text/html": [
       "<div>\n",
       "<style scoped>\n",
       "    .dataframe tbody tr th:only-of-type {\n",
       "        vertical-align: middle;\n",
       "    }\n",
       "\n",
       "    .dataframe tbody tr th {\n",
       "        vertical-align: top;\n",
       "    }\n",
       "\n",
       "    .dataframe thead th {\n",
       "        text-align: right;\n",
       "    }\n",
       "</style>\n",
       "<table border=\"1\" class=\"dataframe\">\n",
       "  <thead>\n",
       "    <tr style=\"text-align: right;\">\n",
       "      <th></th>\n",
       "      <th>idx</th>\n",
       "      <th>seniority_match</th>\n",
       "      <th>degree_match</th>\n",
       "      <th>language_match</th>\n",
       "      <th>job_role_match</th>\n",
       "      <th>salary_match</th>\n",
       "      <th>label</th>\n",
       "    </tr>\n",
       "  </thead>\n",
       "  <tbody>\n",
       "  </tbody>\n",
       "</table>\n",
       "</div>"
      ],
      "text/plain": [
       "Empty DataFrame\n",
       "Columns: [idx, seniority_match, degree_match, language_match, job_role_match, salary_match, label]\n",
       "Index: []"
      ]
     },
     "execution_count": 35,
     "metadata": {},
     "output_type": "execute_result"
    }
   ],
   "source": [
    "# all talents with all qualifications except the salary, are taken into account\n",
    "# then we take all misaligned records with label 1:\n",
    "\n",
    "mismatches[(mismatches.label==1) & (mismatches.salary_match==1)]\n"
   ]
  },
  {
   "cell_type": "code",
   "execution_count": 36,
   "id": "f88581c6-7c58-4fb6-bba9-2136a02f2736",
   "metadata": {},
   "outputs": [
    {
     "data": {
      "text/html": [
       "<div>\n",
       "<style scoped>\n",
       "    .dataframe tbody tr th:only-of-type {\n",
       "        vertical-align: middle;\n",
       "    }\n",
       "\n",
       "    .dataframe tbody tr th {\n",
       "        vertical-align: top;\n",
       "    }\n",
       "\n",
       "    .dataframe thead th {\n",
       "        text-align: right;\n",
       "    }\n",
       "</style>\n",
       "<table border=\"1\" class=\"dataframe\">\n",
       "  <thead>\n",
       "    <tr style=\"text-align: right;\">\n",
       "      <th></th>\n",
       "      <th>idx</th>\n",
       "      <th>seniority_match</th>\n",
       "      <th>degree_match</th>\n",
       "      <th>language_match</th>\n",
       "      <th>job_role_match</th>\n",
       "      <th>salary_match</th>\n",
       "      <th>label</th>\n",
       "    </tr>\n",
       "  </thead>\n",
       "  <tbody>\n",
       "    <tr>\n",
       "      <th>8</th>\n",
       "      <td>8</td>\n",
       "      <td>1</td>\n",
       "      <td>1</td>\n",
       "      <td>1</td>\n",
       "      <td>1</td>\n",
       "      <td>0</td>\n",
       "      <td>1</td>\n",
       "    </tr>\n",
       "    <tr>\n",
       "      <th>12</th>\n",
       "      <td>12</td>\n",
       "      <td>1</td>\n",
       "      <td>1</td>\n",
       "      <td>1</td>\n",
       "      <td>1</td>\n",
       "      <td>0</td>\n",
       "      <td>1</td>\n",
       "    </tr>\n",
       "    <tr>\n",
       "      <th>15</th>\n",
       "      <td>15</td>\n",
       "      <td>1</td>\n",
       "      <td>1</td>\n",
       "      <td>1</td>\n",
       "      <td>1</td>\n",
       "      <td>0</td>\n",
       "      <td>1</td>\n",
       "    </tr>\n",
       "    <tr>\n",
       "      <th>22</th>\n",
       "      <td>22</td>\n",
       "      <td>1</td>\n",
       "      <td>1</td>\n",
       "      <td>1</td>\n",
       "      <td>1</td>\n",
       "      <td>0</td>\n",
       "      <td>1</td>\n",
       "    </tr>\n",
       "    <tr>\n",
       "      <th>24</th>\n",
       "      <td>24</td>\n",
       "      <td>1</td>\n",
       "      <td>1</td>\n",
       "      <td>1</td>\n",
       "      <td>1</td>\n",
       "      <td>0</td>\n",
       "      <td>1</td>\n",
       "    </tr>\n",
       "    <tr>\n",
       "      <th>...</th>\n",
       "      <td>...</td>\n",
       "      <td>...</td>\n",
       "      <td>...</td>\n",
       "      <td>...</td>\n",
       "      <td>...</td>\n",
       "      <td>...</td>\n",
       "      <td>...</td>\n",
       "    </tr>\n",
       "    <tr>\n",
       "      <th>979</th>\n",
       "      <td>979</td>\n",
       "      <td>1</td>\n",
       "      <td>1</td>\n",
       "      <td>1</td>\n",
       "      <td>1</td>\n",
       "      <td>0</td>\n",
       "      <td>1</td>\n",
       "    </tr>\n",
       "    <tr>\n",
       "      <th>988</th>\n",
       "      <td>988</td>\n",
       "      <td>1</td>\n",
       "      <td>1</td>\n",
       "      <td>1</td>\n",
       "      <td>1</td>\n",
       "      <td>0</td>\n",
       "      <td>1</td>\n",
       "    </tr>\n",
       "    <tr>\n",
       "      <th>991</th>\n",
       "      <td>991</td>\n",
       "      <td>1</td>\n",
       "      <td>1</td>\n",
       "      <td>1</td>\n",
       "      <td>1</td>\n",
       "      <td>0</td>\n",
       "      <td>1</td>\n",
       "    </tr>\n",
       "    <tr>\n",
       "      <th>995</th>\n",
       "      <td>995</td>\n",
       "      <td>1</td>\n",
       "      <td>1</td>\n",
       "      <td>1</td>\n",
       "      <td>1</td>\n",
       "      <td>0</td>\n",
       "      <td>1</td>\n",
       "    </tr>\n",
       "    <tr>\n",
       "      <th>996</th>\n",
       "      <td>996</td>\n",
       "      <td>1</td>\n",
       "      <td>1</td>\n",
       "      <td>1</td>\n",
       "      <td>1</td>\n",
       "      <td>0</td>\n",
       "      <td>1</td>\n",
       "    </tr>\n",
       "  </tbody>\n",
       "</table>\n",
       "<p>187 rows × 7 columns</p>\n",
       "</div>"
      ],
      "text/plain": [
       "     idx  seniority_match  degree_match  language_match  job_role_match  \\\n",
       "8      8                1             1               1               1   \n",
       "12    12                1             1               1               1   \n",
       "15    15                1             1               1               1   \n",
       "22    22                1             1               1               1   \n",
       "24    24                1             1               1               1   \n",
       "..   ...              ...           ...             ...             ...   \n",
       "979  979                1             1               1               1   \n",
       "988  988                1             1               1               1   \n",
       "991  991                1             1               1               1   \n",
       "995  995                1             1               1               1   \n",
       "996  996                1             1               1               1   \n",
       "\n",
       "     salary_match  label  \n",
       "8               0      1  \n",
       "12              0      1  \n",
       "15              0      1  \n",
       "22              0      1  \n",
       "24              0      1  \n",
       "..            ...    ...  \n",
       "979             0      1  \n",
       "988             0      1  \n",
       "991             0      1  \n",
       "995             0      1  \n",
       "996             0      1  \n",
       "\n",
       "[187 rows x 7 columns]"
      ]
     },
     "execution_count": 36,
     "metadata": {},
     "output_type": "execute_result"
    }
   ],
   "source": [
    "# interestingly, there is one exception to the rule:\n",
    "# if all other criterion match except for the salary, there are 187 out of 2000 records\n",
    "# which have positive label \n",
    "\n",
    "mismatches[mismatches.label==1]"
   ]
  },
  {
   "cell_type": "markdown",
   "id": "c20c9f99-b293-4247-904d-0ff9438564bf",
   "metadata": {},
   "source": [
    "also, if we cross check other features for misaligned records which are accepted without salary match, we can see\n",
    "that there are no other traceable patterns in reasoning why these talents are accepted, except for some other reasons"
   ]
  },
  {
   "cell_type": "markdown",
   "id": "95ddc692-2901-4e5c-bc81-ea0b8096a1c0",
   "metadata": {},
   "source": [
    "# Visualizing distribution of misaligned records"
   ]
  },
  {
   "cell_type": "code",
   "execution_count": 55,
   "id": "72c38f9f-9596-49d8-8982-455d2dc37dd4",
   "metadata": {},
   "outputs": [
    {
     "data": {
      "image/png": "[encoded data removed]",
      "text/plain": [
       "<Figure size 800x600 with 1 Axes>"
      ]
     },
     "metadata": {},
     "output_type": "display_data"
    }
   ],
   "source": [
    "import seaborn as sns\n",
    "import matplotlib.pyplot as plt\n",
    "\n",
    "df_mismatch = pd.DataFrame(\n",
    "    {\n",
    "        'match_but_not_accepted' : [len(match_but_not_accepted)],\n",
    "        'mismatch_but_accepted' : [len(mismatch_but_accepted)]                                     \n",
    "                                       }\n",
    ")\n",
    "\n",
    "\n",
    "# Melt the DataFrame to a long format\n",
    "df_melted = df_mismatch.melt(var_name='Category', value_name='Count')\n",
    "\n",
    "total_mismatch = df_mismatch.match_but_not_accepted.tolist()[0] + df_mismatch.mismatch_but_accepted.tolist()[0]\n",
    "\n",
    "mismatch_perc = total_mismatch/df.shape[0]\n",
    "\n",
    "\n",
    "# Plot the data using seaborn\n",
    "plt.figure(figsize=(8, 6))\n",
    "sns.barplot(x='Category', y='Count', data=df_melted)\n",
    "plt.title(f'Misaligned types distribution')\n",
    "plt.ylabel('Count')\n",
    "plt.xlabel('Category')\n",
    "plt.show()\n"
   ]
  },
  {
   "cell_type": "markdown",
   "id": "f05d308d-67bb-4d5c-b10b-57a8cc2bfd8f",
   "metadata": {},
   "source": [
    "## 6) DATA EXPLORATION"
   ]
  },
  {
   "cell_type": "markdown",
   "id": "6486f4b5-5c81-45ab-9114-333e52ebffbf",
   "metadata": {},
   "source": [
    "We want to visualize all job titles on 2-dimensional graph using t-sne library,\n",
    "which takes input (previously converted to numerical vectors) using TF-IDF concept,\n",
    "reduces it to 2-dimensional output,\n",
    "and plot the results on the graphicon"
   ]
  },
  {
   "cell_type": "code",
   "execution_count": 56,
   "id": "8a54d8b8-4363-4918-b70f-927105e23c15",
   "metadata": {},
   "outputs": [
    {
     "data": {
      "image/png": "[encoded data removed]",
      "text/plain": [
       "<Figure size 2000x1500 with 1 Axes>"
      ]
     },
     "metadata": {},
     "output_type": "display_data"
    }
   ],
   "source": [
    "from sklearn.feature_extraction.text import TfidfVectorizer\n",
    "from sklearn.manifold import TSNE\n",
    "from adjustText import adjust_text\n",
    "import matplotlib.pyplot as plt\n",
    "import pandas as pd\n",
    "import numpy as np\n",
    "\n",
    "# Example DataFrame\n",
    "# df = pd.DataFrame(...)\n",
    "\n",
    "def plot_tsne(tenant, feature, label):\n",
    "    tenant_set = set()\n",
    "    \n",
    "    for index, row in df[df.label == label].iterrows():\n",
    "        features = row[tenant][feature]\n",
    "        for item in features:\n",
    "            tenant_set.add(item)\n",
    "    \n",
    "    # Convert the set to a list for processing\n",
    "    features_list = list(tenant_set)\n",
    "    \n",
    "    # Create a DataFrame from the list of features\n",
    "    features_df = pd.DataFrame(features_list, columns=[feature])\n",
    "    \n",
    "    # Calculate the frequency of each feature\n",
    "    frequency = df[df.label == label][tenant].apply(lambda x: pd.Series(x[feature])).stack().value_counts()\n",
    "    frequency_df = frequency.reset_index()\n",
    "    frequency_df.columns = [feature, 'frequency']\n",
    "    \n",
    "    # Merge frequencies back into the features DataFrame\n",
    "    features_df = features_df.merge(frequency_df, on=feature, how='left')\n",
    "    \n",
    "    # Use TfidfVectorizer to convert features to TF-IDF features\n",
    "    vectorizer = TfidfVectorizer()\n",
    "    feature2vec = vectorizer.fit_transform(features_df[feature])\n",
    "    \n",
    "    # Use t-SNE to reduce dimensionality\n",
    "    tsne = TSNE(n_components=2, random_state=42, perplexity=5, learning_rate=100)\n",
    "    X_tsne = tsne.fit_transform(feature2vec.toarray())\n",
    "    \n",
    "    # Create a scatter plot\n",
    "    plt.figure(figsize=(20, 15))  # Increased figure size for better clarity\n",
    "    \n",
    "    # Generate random colors\n",
    "    colors = np.random.rand(len(features_df))\n",
    "    \n",
    "    scatter = plt.scatter(X_tsne[:, 0], X_tsne[:, 1], s=features_df['frequency'] * 100, c=colors, alpha=0.6, cmap='viridis')\n",
    "    \n",
    "    # Annotate points with features\n",
    "    texts = []\n",
    "    for i, txt in enumerate(features_df[feature]):\n",
    "        texts.append(plt.text(X_tsne[i, 0], X_tsne[i, 1], txt, fontsize=12, ha='center'))\n",
    "    \n",
    "    # Adjust text positions to avoid overlap and add pointer lines\n",
    "    adjust_text(texts, \n",
    "                only_move={'points':'y', 'text':'xy'}, \n",
    "                arrowprops=dict(arrowstyle='-', color='gray', lw=1))\n",
    "    \n",
    "    plt.title(f't-SNE visualization of {feature}', fontsize=20)\n",
    "    plt.xlabel('t-SNE 1', fontsize=15)\n",
    "    plt.ylabel('t-SNE 2', fontsize=15)\n",
    "    plt.show()\n",
    "\n",
    "# Example usage\n",
    "plot_tsne('job', 'job_roles', 1)\n"
   ]
  },
  {
   "cell_type": "markdown",
   "id": "93b0d895-d0f3-4706-9c06-71403d23c9fd",
   "metadata": {},
   "source": [
    "Analysis\n",
    "--------\n",
    "Since job_role is used solely as an input in t-sne, this model only captures a semantical information\n",
    "This is why engineers, managers, developers and data people are clustered seprately.\n"
   ]
  },
  {
   "cell_type": "markdown",
   "id": "ea9e3b66-946f-4718-a87a-2af70f281ad3",
   "metadata": {},
   "source": [
    "## 7) ML MODEL - LOGISTIC REGRESSION"
   ]
  },
  {
   "cell_type": "code",
   "execution_count": 57,
   "id": "05e05533-b884-4d1c-bda9-39c8c64edf76",
   "metadata": {},
   "outputs": [],
   "source": [
    "# since we've seen intuitively, during the data analysis part, that matching truly depends on features we selected,\n",
    "# we will plug in the matching values into the logistic regression model as predictors, or independent variables.\n",
    "\n",
    "# defining predictors (features from the dataset) and class (label) as dependent variable\n",
    "\n",
    "features = ['seniority_match', 'degree_match', 'salary_match', 'language_match', 'job_role_match']\n",
    "\n",
    "X = df[features]\n",
    "y = df['label'].tolist()\n"
   ]
  },
  {
   "cell_type": "markdown",
   "id": "12298638-0b63-4e52-bbbd-bd86d11cd3b4",
   "metadata": {},
   "source": [
    "We are her edealing with binary classification priblem (predicting whether a talent is a match to job requirement or not).\n",
    "We'd pick logistic regression to start with, since we have 5 features as predictors.\n",
    "No need for PCA or SVD for now."
   ]
  },
  {
   "cell_type": "code",
   "execution_count": 58,
   "id": "49e23ccf-57c5-46dc-8d0c-499b16b8ced5",
   "metadata": {},
   "outputs": [
    {
     "name": "stdout",
     "output_type": "stream",
     "text": [
      "Accuracy: 0.9775\n"
     ]
    }
   ],
   "source": [
    "from sklearn.feature_extraction import DictVectorizer\n",
    "from sklearn.linear_model import LogisticRegression\n",
    "from sklearn.model_selection import train_test_split\n",
    "from sklearn.pipeline import make_pipeline\n",
    "\n",
    "# Defining pipeline for logistic regression\n",
    "model = make_pipeline(\n",
    "    DictVectorizer(sparse=False),\n",
    "    LogisticRegression()\n",
    ")\n",
    "\n",
    "# Train-test split on 80% - 20% rule\n",
    "X_train, X_test, y_train, y_test = train_test_split(X.to_dict(orient='records'), y, test_size=0.2, random_state=42)\n",
    "\n",
    "# Fiting the model\n",
    "model.fit(X_train, y_train)\n",
    "\n",
    "# Predict on test data\n",
    "y_pred = model.predict(X_test)\n",
    "\n",
    "# Model evaluation\n",
    "accuracy = model.score(X_test, y_test)\n",
    "\n",
    "print(f\"Accuracy: {accuracy}\")\n",
    "\n",
    "# probabilities (scores)\n",
    "\n",
    "y_pred_prob = model.predict_proba(X_test)[:, 1]\n",
    "\n",
    "# confidence scores as probabilities of selected talent being a good fit for the job\n",
    "\n",
    "scores = model.predict_proba(X_test)[:, 1]\n"
   ]
  },
  {
   "cell_type": "code",
   "execution_count": 59,
   "id": "4fb737db-4aed-44ce-80f1-b28df384a959",
   "metadata": {},
   "outputs": [
    {
     "data": {
      "text/plain": [
       "{'seniority_match': 1,\n",
       " 'degree_match': 0,\n",
       " 'salary_match': 1,\n",
       " 'language_match': 1,\n",
       " 'job_role_match': 1}"
      ]
     },
     "execution_count": 59,
     "metadata": {},
     "output_type": "execute_result"
    }
   ],
   "source": [
    "# example of input features (predictors) plugged into the model\n",
    "\n",
    "X_test[375]"
   ]
  },
  {
   "cell_type": "code",
   "execution_count": 60,
   "id": "60517f5d-74dc-4285-ac06-9c99aec2f976",
   "metadata": {},
   "outputs": [
    {
     "data": {
      "text/plain": [
       "0"
      ]
     },
     "execution_count": 60,
     "metadata": {},
     "output_type": "execute_result"
    }
   ],
   "source": [
    "# binary prediction (can be only 0 or 1)\n",
    "\n",
    "y_pred[375]"
   ]
  },
  {
   "cell_type": "code",
   "execution_count": 61,
   "id": "d06a16b4-4c52-44d0-85e2-8b8d4dc0066b",
   "metadata": {},
   "outputs": [
    {
     "data": {
      "text/plain": [
       "0.14301363063141426"
      ]
     },
     "execution_count": 61,
     "metadata": {},
     "output_type": "execute_result"
    }
   ],
   "source": [
    "# score (probability, confidence) that we can safely predict match\n",
    "# the closer to 1, the more likely it will be match\n",
    "\n",
    "scores[375]"
   ]
  },
  {
   "cell_type": "markdown",
   "id": "49249d40-b89a-47d6-98db-8a012949c763",
   "metadata": {},
   "source": [
    "## 8) EVALUATION - CONFUSION MATRIX"
   ]
  },
  {
   "cell_type": "code",
   "execution_count": 72,
   "id": "cee03cec-7437-4579-9322-fd04ae06cc07",
   "metadata": {},
   "outputs": [],
   "source": [
    "# binary classification problem is evaluated by a confusion matrix on testing dataset consisting of 400 records (20% of total records)\n",
    "\n",
    "from sklearn.metrics import accuracy_score, precision_score, recall_score, f1_score, confusion_matrix, classification_report\n",
    "\n",
    "accuracy = accuracy_score(y_test, y_pred)\n",
    "precision = precision_score(y_test, y_pred)\n",
    "recall = recall_score(y_test, y_pred)\n",
    "f1 = f1_score(y_test, y_pred)\n",
    "conf_matrix = confusion_matrix(y_test, y_pred)\n",
    "class_report = classification_report(y_test, y_pred)\n"
   ]
  },
  {
   "cell_type": "markdown",
   "id": "f8c4bb18-813f-4d88-89fa-e750031d5204",
   "metadata": {},
   "source": [
    "Definitions:\n",
    "------------\n",
    "- true positives = predicted = true, in reality = true\n",
    "- false positives = predicted = true, in reality = false\n",
    "- true negatives = predicted = false, in reality = false\n",
    "- false negatives = predicted = false, in reality = true\n",
    "\n",
    "Confusion Matrix: A table used to describe the performance of the classification model. \n",
    "It shows the true positives, true negatives, false positives, and false negatives.\n"
   ]
  },
  {
   "cell_type": "code",
   "execution_count": 66,
   "id": "ff970b89-adef-46eb-b0a9-986b50599708",
   "metadata": {},
   "outputs": [
    {
     "data": {
      "text/html": [
       "<div>\n",
       "<style scoped>\n",
       "    .dataframe tbody tr th:only-of-type {\n",
       "        vertical-align: middle;\n",
       "    }\n",
       "\n",
       "    .dataframe tbody tr th {\n",
       "        vertical-align: top;\n",
       "    }\n",
       "\n",
       "    .dataframe thead th {\n",
       "        text-align: right;\n",
       "    }\n",
       "</style>\n",
       "<table border=\"1\" class=\"dataframe\">\n",
       "  <thead>\n",
       "    <tr style=\"text-align: right;\">\n",
       "      <th></th>\n",
       "      <th>0</th>\n",
       "      <th>1</th>\n",
       "    </tr>\n",
       "  </thead>\n",
       "  <tbody>\n",
       "    <tr>\n",
       "      <th>0</th>\n",
       "      <td>192</td>\n",
       "      <td>9</td>\n",
       "    </tr>\n",
       "    <tr>\n",
       "      <th>1</th>\n",
       "      <td>0</td>\n",
       "      <td>199</td>\n",
       "    </tr>\n",
       "  </tbody>\n",
       "</table>\n",
       "</div>"
      ],
      "text/plain": [
       "     0    1\n",
       "0  192    9\n",
       "1    0  199"
      ]
     },
     "execution_count": 66,
     "metadata": {},
     "output_type": "execute_result"
    }
   ],
   "source": [
    "# true negatives (192) being correctly classified as not matched\n",
    "# true positives (199) being correctly classified as matched\n",
    "\n",
    "df_confusion_matrix = pd.DataFrame(conf_matrix)\n",
    "\n",
    "df_confusion_matrix"
   ]
  },
  {
   "cell_type": "code",
   "execution_count": 70,
   "id": "4ea98e8c-6693-4d65-89ff-24d04bf4c005",
   "metadata": {},
   "outputs": [
    {
     "data": {
      "image/png": "[encoded data removed]",
      "text/plain": [
       "<Figure size 800x600 with 2 Axes>"
      ]
     },
     "metadata": {},
     "output_type": "display_data"
    }
   ],
   "source": [
    "# Plot confusion matrix\n",
    "\n",
    "plt.figure(figsize=(8, 6))\n",
    "sns.heatmap(df_confusion_matrix, annot=True, fmt='d', cmap='Blues', xticklabels=['Predicted 0', 'Predicted 1'], yticklabels=['Actual 0', 'Actual 1'])\n",
    "plt.xlabel('Predicted')\n",
    "plt.ylabel('Actual')\n",
    "plt.title('Confusion Matrix')\n",
    "plt.show()"
   ]
  },
  {
   "cell_type": "markdown",
   "id": "6a5ed100-2650-49c5-b5f0-4578813b3e85",
   "metadata": {},
   "source": [
    "Metrics:\n",
    "--------\n",
    "\n",
    "- accuracy: ratio of correctly predicted vs total number of records: (192 + 199) / 400 = 0.98\n",
    "- precision: ratio true positives vs all predicted as positive: 199 / (199 + 9) = 0.96)\n",
    "- recall: ratio true positives (TP) vs total correctly predicted TP/(TP + FN) (model's ability to capture all accurate instances): 199/(199+0) = 1.00\n",
    "- F1 Score: The weighted average of precision and recall (balance between precision and recall)\n",
    "- F1 = 2 * (Precision * Recall) / (Precision + Recall) = 2 * (0.96 * 1)/(0.96 + 1) = (2 * 0.96) / 1.96 = 1.92 / 1.96 = 0.98\n",
    "- Classification Report: Provides a detailed report of precision, recall, f1 score, and support for each class.\n"
   ]
  },
  {
   "cell_type": "code",
   "execution_count": 71,
   "id": "5a6ffc11-148e-4b87-8001-dd98dc9567a4",
   "metadata": {},
   "outputs": [
    {
     "name": "stdout",
     "output_type": "stream",
     "text": [
      "              precision    recall  f1-score   support\n",
      "\n",
      "           0       1.00      0.96      0.98       201\n",
      "           1       0.96      1.00      0.98       199\n",
      "\n",
      "    accuracy                           0.98       400\n",
      "   macro avg       0.98      0.98      0.98       400\n",
      "weighted avg       0.98      0.98      0.98       400\n",
      "\n"
     ]
    }
   ],
   "source": [
    "print(class_report)"
   ]
  },
  {
   "cell_type": "markdown",
   "id": "d19faa19-3e81-460d-84d2-25ac504c175d",
   "metadata": {},
   "source": [
    "Evaluation results breakdown\n",
    "----------------------------\n",
    "\n",
    "-----------\n",
    "precision\n",
    "-----------\n",
    "\n",
    "precision for class 0 is 1.00, meaning all instances predicted as class 0 are actually class 0\n",
    "for class 1, the precision is 0.96, indicating that 96% of the instances predicted as class 1 are correct.\n",
    "\n",
    "--------\n",
    "recall\n",
    "--------\n",
    "\n",
    "recall for class 0 is 0.96, meaning the model correctly identified 96% of the actual class 0 instances\n",
    "for class 1, the recall is 1, meaning the model correctly identified all actual class 1 instances.\n",
    "\n",
    "----\n",
    "f1\n",
    "----\n",
    "\n",
    "f1 as harmonic mean of precision and recall, is 0.98 for both classes, indicating a balanced performance.\n",
    "\n",
    "----------\n",
    "accuracy\n",
    "----------\n",
    "\n",
    "the overall accuracy of the model is 0.9775, indicating that 97.8% of the total predictions were correct.\n",
    "\n",
    "---------\n",
    "support\n",
    "---------\n",
    "\n",
    "showsing the number of actual instances for each class. the classes are in balance, \n",
    "with almost equal distribution of records for class 0 and class 1.\n",
    "\n",
    "---------------------------\n",
    "macro vs weighted average\n",
    "---------------------------\n",
    "\n",
    "macro average gives the average performance across classes without considering class imbalance\n",
    "weighted average takes the class distribution into account. \n",
    "both metrics are similar, indicating the model performs consistently across both classes.\n"
   ]
  },
  {
   "cell_type": "code",
   "execution_count": 73,
   "id": "72b0600a-69cb-48d9-945d-4e230d7fee8b",
   "metadata": {},
   "outputs": [
    {
     "data": {
      "image/png": "[encoded data removed]",
      "text/plain": [
       "<Figure size 640x480 with 1 Axes>"
      ]
     },
     "metadata": {},
     "output_type": "display_data"
    }
   ],
   "source": [
    "# ROC curve\n",
    "\n",
    "# ROC (receiver operating characteristic) is a graph showing a ratio true positives vs false positives\n",
    "# given different thresholds\n",
    "\n",
    "from sklearn.metrics import accuracy_score, precision_score, recall_score\n",
    "from sklearn.metrics import f1_score, confusion_matrix, classification_report, roc_curve, auc\n",
    "import matplotlib.pyplot as plt\n",
    "\n",
    "# ROC Curve\n",
    "fpr, tpr, thresholds = roc_curve(y_test, y_pred_prob)\n",
    "roc_auc = auc(fpr, tpr)\n",
    "\n",
    "# Plot ROC Curve\n",
    "plt.figure()\n",
    "plt.plot(fpr, tpr, color='darkorange', lw=2, label=f'ROC curve (area = {roc_auc:.2f})')\n",
    "plt.plot([0, 1], [0, 1], color='navy', lw=2, linestyle='--')\n",
    "plt.xlim([0.0, 1.0])\n",
    "plt.ylim([0.0, 1.05])\n",
    "plt.xlabel('False Positive Rate')\n",
    "plt.ylabel('True Positive Rate')\n",
    "plt.title('Receiver Operating Characteristic (ROC) Curve')\n",
    "plt.legend(loc=\"lower right\")\n",
    "plt.show()\n"
   ]
  },
  {
   "cell_type": "markdown",
   "id": "f95aeb5d-e38e-4157-bb5a-ae79e2d457b8",
   "metadata": {},
   "source": [
    "ROC curve\n",
    "----------\n",
    "\n",
    "roc_curve function computes the false positive rate (FPR) and true positive rate (TPR) for different threshold values.\n",
    "auc function calculates the area under the ROC curve.\n",
    "\n",
    "The diagonal line represents the performance of a random classifier.\n",
    "--------------------------------------------------------------------\n",
    "\n",
    "roc curve plot visualizes the model’s performance.\n",
    "auc score: the area under the ROC curve, indicating the overall performance of the model, which is very good\n",
    "\n"
   ]
  },
  {
   "cell_type": "markdown",
   "id": "c3a1227a-8df8-42f6-a904-d08254f1957a",
   "metadata": {},
   "source": [
    "## WRITING A MODEL TO DISK "
   ]
  },
  {
   "cell_type": "code",
   "execution_count": null,
   "id": "0ec11769-de1a-4840-aeae-4f333bebcb0f",
   "metadata": {},
   "outputs": [],
   "source": [
    "# Save the pipeline to a file\n",
    "\n",
    "import joblib\n",
    "\n",
    "model_filename = '/Users/milos/downloads/logistic_regression_model.pkl'\n",
    "joblib.dump(model, model_filename)\n",
    "print(f\"Pipeline saved to {model_filename}\")\n"
   ]
  },
  {
   "cell_type": "markdown",
   "id": "f76b0241-400b-422d-9507-4cf82d47b90c",
   "metadata": {},
   "source": [
    "# TEST THE MODEL - BREAKDOWN OF UTILITY FUNCTIONS"
   ]
  },
  {
   "cell_type": "markdown",
   "id": "5ea7ee55-5c30-4a1a-aff3-d9acffb9148a",
   "metadata": {},
   "source": [
    "## 1) Create a function to transform and map input inside dictionaries inputs"
   ]
  },
  {
   "cell_type": "code",
   "execution_count": 80,
   "id": "98cd9bba-097e-403f-990c-2bd8ff66cf1a",
   "metadata": {},
   "outputs": [],
   "source": [
    "def transform_input(input_dict, dict_type):\n",
    "\n",
    "    try:\n",
    "    \n",
    "        if dict_type == 'job':\n",
    "        \n",
    "            # creating empty dict\n",
    "            transformed = {}\n",
    "            \n",
    "            # transform languages\n",
    "\n",
    "            transformed['languages'] = [\n",
    "                {\n",
    "                    'title': lang['title'],\n",
    "                    'rating': language_levels.get(lang['rating'], 0),\n",
    "                    'must_have': lang['must_have']\n",
    "                } \n",
    "                for lang in input_dict['languages'] if lang['must_have']\n",
    "            ]\n",
    "                                \n",
    "            # Transform job_roles (keep as it is)\n",
    "            transformed['job_roles'] = input_dict['job_roles']\n",
    "            \n",
    "            # Transform seniorities\n",
    "            transformed['seniorities'] = [\n",
    "                seniorities.get(sen, 0) for sen in input_dict['seniorities']\n",
    "            ]\n",
    "            \n",
    "            # Transform max_salary (keep as it is)\n",
    "            transformed['max_salary'] = input_dict['max_salary']\n",
    "            \n",
    "            # Transform min_degree\n",
    "            transformed['min_degree'] = degrees.get(input_dict['min_degree'], 0)\n",
    "            \n",
    "            return transformed\n",
    "    \n",
    "        if dict_type == 'talent':\n",
    "    \n",
    "            # creating empty dict\n",
    "            transformed = {}\n",
    "            \n",
    "            # transform languages\n",
    "            transformed['languages'] = [\n",
    "                {\n",
    "                    'title': lang['title'],\n",
    "                    'rating': language_levels.get(lang['rating'], 0)\n",
    "                } \n",
    "                for lang in input_dict['languages']\n",
    "            ]\n",
    "            \n",
    "            # Transform job_roles (keep as it is)\n",
    "            transformed['job_roles'] = input_dict['job_roles']\n",
    "            \n",
    "            # Transform seniorities\n",
    "            transformed['seniority'] = seniorities.get(input_dict['seniority'], 0)\n",
    "            \n",
    "            # Transform max_salary (keep as it is)\n",
    "            transformed['salary_expectation'] = input_dict['salary_expectation']\n",
    "            \n",
    "            # Transform min_degree\n",
    "            transformed['degree'] = degrees.get(input_dict['degree'], 0)\n",
    "            \n",
    "            return transformed\n",
    "\n",
    "        else:\n",
    "\n",
    "            print('wrong input')\n",
    "\n",
    "    except Exception as e:\n",
    "\n",
    "        raise('error:', e)\n",
    "        \n",
    "    "
   ]
  },
  {
   "cell_type": "markdown",
   "id": "44746967-4095-4d20-ba0b-0ee4ddf6feb7",
   "metadata": {},
   "source": [
    "## 2. Select random talent and job requirement in a form of a dictionaries, as per task requirement"
   ]
  },
  {
   "cell_type": "code",
   "execution_count": 76,
   "id": "fd352d08-1d7d-441f-90bb-b890f0aaee69",
   "metadata": {},
   "outputs": [],
   "source": [
    "\n",
    "idx = 255\n",
    "\n",
    "j_dict = df['job'][idx]\n",
    "t_dict = df['talent'][idx]"
   ]
  },
  {
   "cell_type": "code",
   "execution_count": 77,
   "id": "22c645fe-3baf-4fb2-b861-f7b9697d8bee",
   "metadata": {},
   "outputs": [
    {
     "data": {
      "text/plain": [
       "{'languages': [{'title': 'German', 'rating': 'C1', 'must_have': True},\n",
       "  {'title': 'English', 'rating': 'B2', 'must_have': True}],\n",
       " 'job_roles': ['frontend-developer'],\n",
       " 'seniorities': ['junior', 'midlevel'],\n",
       " 'max_salary': 70000,\n",
       " 'min_degree': 'none'}"
      ]
     },
     "execution_count": 77,
     "metadata": {},
     "output_type": "execute_result"
    }
   ],
   "source": [
    "j_dict"
   ]
  },
  {
   "cell_type": "code",
   "execution_count": 78,
   "id": "24b81431-4d44-41eb-a62b-e7d5cb83bfb7",
   "metadata": {},
   "outputs": [
    {
     "data": {
      "text/plain": [
       "{'languages': [{'rating': 'C2', 'title': 'German'},\n",
       "  {'rating': 'C2', 'title': 'English'}],\n",
       " 'job_roles': ['frontend-developer', 'full-stack-developer'],\n",
       " 'seniority': 'midlevel',\n",
       " 'salary_expectation': 75000,\n",
       " 'degree': 'none'}"
      ]
     },
     "execution_count": 78,
     "metadata": {},
     "output_type": "execute_result"
    }
   ],
   "source": [
    "t_dict"
   ]
  },
  {
   "cell_type": "markdown",
   "id": "43af5d3d-9610-4225-b96f-bf60265dfba2",
   "metadata": {},
   "source": [
    "## 3. Transform (map) input dicts"
   ]
  },
  {
   "cell_type": "code",
   "execution_count": 103,
   "id": "d6042630-9dc5-4a20-a89a-7a7e74860419",
   "metadata": {},
   "outputs": [],
   "source": [
    "t_job = transform_input(j_dict, 'job')\n",
    "t_talent = transform_input(t_dict, 'talent')"
   ]
  },
  {
   "cell_type": "code",
   "execution_count": 104,
   "id": "7cd8bbaf-9a91-469d-bac3-96694977a83a",
   "metadata": {},
   "outputs": [
    {
     "data": {
      "text/plain": [
       "{'languages': [{'title': 'German', 'rating': 5, 'must_have': True},\n",
       "  {'title': 'English', 'rating': 4, 'must_have': True}],\n",
       " 'job_roles': ['frontend-developer'],\n",
       " 'seniorities': [1, 2],\n",
       " 'max_salary': 70000,\n",
       " 'min_degree': 0}"
      ]
     },
     "execution_count": 104,
     "metadata": {},
     "output_type": "execute_result"
    }
   ],
   "source": [
    "t_job"
   ]
  },
  {
   "cell_type": "code",
   "execution_count": 105,
   "id": "42c3eea5-b30a-4776-98bd-e1da610024bf",
   "metadata": {},
   "outputs": [
    {
     "data": {
      "text/plain": [
       "{'languages': [{'title': 'German', 'rating': 6},\n",
       "  {'title': 'English', 'rating': 6}],\n",
       " 'job_roles': ['frontend-developer', 'full-stack-developer'],\n",
       " 'seniority': 2,\n",
       " 'salary_expectation': 75000,\n",
       " 'degree': 0}"
      ]
     },
     "execution_count": 105,
     "metadata": {},
     "output_type": "execute_result"
    }
   ],
   "source": [
    "t_talent"
   ]
  },
  {
   "cell_type": "markdown",
   "id": "49334873-cf5c-462a-988e-7bf70e259885",
   "metadata": {},
   "source": [
    "## 4. Create a function which checks the structure of input dictionaries\n",
    "\n",
    "(making sure it fits task requirements)"
   ]
  },
  {
   "cell_type": "code",
   "execution_count": 86,
   "id": "2356e5c4-e1a5-43b9-b77c-f56b8bf8c856",
   "metadata": {},
   "outputs": [],
   "source": [
    "\n",
    "def check_dict_structure(dict, dict_type):\n",
    "\n",
    "    if dict_type == 'job':\n",
    "    \n",
    "        required_job_keys = {'languages', 'job_roles', 'seniorities', 'max_salary', 'min_degree'}\n",
    "        if not all(key in dict for key in required_job_keys):\n",
    "            raise ValueError(\"job_dict is missing required keys\")\n",
    "        \n",
    "        if not isinstance(dict['languages'], list):\n",
    "            raise TypeError(\"job_dict['languages'] should be a list\")\n",
    "        \n",
    "        for lang in dict['languages']:\n",
    "            if not all(key in lang for key in ['title', 'rating', 'must_have']):\n",
    "                raise ValueError(\"Each language in job_dict must have 'title', 'rating', and 'must_have'\")\n",
    "    else:\n",
    "        return('ok')\n",
    "\n",
    "    \n",
    "    if dict_type == 'talent':\n",
    "\n",
    "        required_talent_keys = {'languages', 'job_roles', 'seniority', 'salary_expectation', 'degree'}\n",
    "        if not all(key in dict for key in required_talent_keys):\n",
    "            raise ValueError(\"talent_dict is missing required keys\")\n",
    "        \n",
    "        if not isinstance(dict['languages'], list):\n",
    "            raise TypeError(\"talent_dict['languages'] should be a list\")\n",
    "        \n",
    "        for lang in dict['languages']:\n",
    "            if not all(key in lang for key in ['title', 'rating']):\n",
    "                raise ValueError(\"Each language in talent_dict must have 'title' and 'rating'\")\n",
    "    else:\n",
    "        return('ok')\n",
    "     "
   ]
  },
  {
   "cell_type": "markdown",
   "id": "5112b938-6f8a-422b-ab5c-5957b147ea40",
   "metadata": {},
   "source": [
    "## 5. Function to match languages from dict"
   ]
  },
  {
   "cell_type": "code",
   "execution_count": 87,
   "id": "a6d1abc1-008d-4e59-ad2c-1b4812c17e74",
   "metadata": {},
   "outputs": [],
   "source": [
    "\n",
    "def match_language_from_dict(job_dict, talent_dict):\n",
    "\n",
    "    if(check_dict_structure(job_dict, 'job') == 'ok' and check_dict_structure(talent_dict, 'talent') == 'ok'):\n",
    "        pass\n",
    "    else:\n",
    "        raise('error in dict structure')\n",
    "\n",
    "    transformed_job = transform_input(job_dict, 'job')\n",
    "    transformed_talent = transform_input(talent_dict, 'talent')\n",
    "\n",
    "    job_languages = transformed_job['languages']\n",
    "    talent_languages = {lang['title']: lang['rating'] for lang in transformed_talent['languages']}\n",
    "\n",
    "    for job_lang in job_languages:\n",
    "        job_title = job_lang['title']\n",
    "        job_rating = job_lang['rating']\n",
    "        \n",
    "        if job_title not in talent_languages or talent_languages[job_title] < job_rating:\n",
    "            return 0\n",
    "        \n",
    "    return 1\n",
    "    "
   ]
  },
  {
   "cell_type": "code",
   "execution_count": 90,
   "id": "82519c03-1bc5-4905-8e05-c14a8517b3c6",
   "metadata": {},
   "outputs": [
    {
     "name": "stdout",
     "output_type": "stream",
     "text": [
      "Is language requirements met? (0 for no / 1 for yes): 1\n"
     ]
    }
   ],
   "source": [
    "print('Is language requirements met? (0 for no / 1 for yes):', match_language_from_dict(j_dict, t_dict))"
   ]
  },
  {
   "cell_type": "markdown",
   "id": "dcb4fe90-dcd1-406f-9f9d-e0c27907a64d",
   "metadata": {},
   "source": [
    "## 6. Function to match seniority from dict"
   ]
  },
  {
   "cell_type": "code",
   "execution_count": 91,
   "id": "cfc32c3a-fed6-45fb-a9d5-a83f24cd1cff",
   "metadata": {},
   "outputs": [],
   "source": [
    "\n",
    "def match_seniority_from_dict(job_dict, talent_dict):\n",
    "\n",
    "    if(check_dict_structure(job_dict, 'job') == 'ok' and check_dict_structure(talent_dict, 'talent') == 'ok'):\n",
    "        pass\n",
    "    else:\n",
    "        raise('error in dict structure')\n",
    "\n",
    "    transformed_job = transform_input(job_dict, 'job')\n",
    "    transformed_talent = transform_input(talent_dict, 'talent')\n",
    "\n",
    "    min_job_seniority = min(transformed_job['seniorities'])\n",
    "    talent_seniority = transformed_talent['seniority']\n",
    "\n",
    "    if talent_seniority >= min_job_seniority:\n",
    "        return 1\n",
    "    \n",
    "    return 0\n",
    "    "
   ]
  },
  {
   "cell_type": "code",
   "execution_count": 94,
   "id": "4ee0691b-484a-4261-973a-31bda433a029",
   "metadata": {},
   "outputs": [
    {
     "name": "stdout",
     "output_type": "stream",
     "text": [
      "Is seniority requirements met? (0 for no / 1 for yes): 1\n"
     ]
    }
   ],
   "source": [
    "print('Is seniority requirements met? (0 for no / 1 for yes):', match_seniority_from_dict(j_dict, t_dict))"
   ]
  },
  {
   "cell_type": "markdown",
   "id": "928c4d9e-534b-4923-996c-2ca5ec994e90",
   "metadata": {},
   "source": [
    "## 7. Function to match degree from dict inputs"
   ]
  },
  {
   "cell_type": "code",
   "execution_count": 95,
   "id": "1555510e-51cb-4611-bf11-0e474ad00dfe",
   "metadata": {},
   "outputs": [],
   "source": [
    "def match_degree_from_dict(job_dict, talent_dict):\n",
    "\n",
    "    if(check_dict_structure(job_dict, 'job') == 'ok' and check_dict_structure(talent_dict, 'talent') == 'ok'):\n",
    "        pass\n",
    "    else:\n",
    "        raise('error in dict structure')\n",
    "\n",
    "    transformed_job = transform_input(job_dict, 'job')\n",
    "    transformed_talent = transform_input(talent_dict, 'talent')\n",
    "\n",
    "    min_job_degree = transformed_job['min_degree']\n",
    "    talent_degree = transformed_talent['degree']\n",
    "\n",
    "    if talent_degree >= min_job_degree:\n",
    "        return 1\n",
    "    \n",
    "    return 0\n",
    "    "
   ]
  },
  {
   "cell_type": "code",
   "execution_count": 97,
   "id": "cb6add31-4950-48c6-96c7-adf87c90649b",
   "metadata": {},
   "outputs": [
    {
     "name": "stdout",
     "output_type": "stream",
     "text": [
      "Is educational degree requirements met? (0 for no / 1 for yes): 1\n"
     ]
    }
   ],
   "source": [
    "print('Is educational degree requirements met? (0 for no / 1 for yes):', match_degree_from_dict(j_dict, t_dict))"
   ]
  },
  {
   "cell_type": "markdown",
   "id": "c742e7b4-cd89-4518-a214-cb2639ee8417",
   "metadata": {},
   "source": [
    "## 8. Function to match salary from dict inputs"
   ]
  },
  {
   "cell_type": "code",
   "execution_count": 98,
   "id": "ea063a0b-ec91-41a1-bde6-d48503baf4d4",
   "metadata": {},
   "outputs": [],
   "source": [
    "def match_salary_from_dict(job_dict, talent_dict):\n",
    "\n",
    "    if(check_dict_structure(job_dict, 'job') == 'ok' and check_dict_structure(talent_dict, 'talent') == 'ok'):\n",
    "        pass\n",
    "    else:\n",
    "        raise('error in dict structure')\n",
    "\n",
    "    transformed_job = transform_input(job_dict, 'job')\n",
    "    transformed_talent = transform_input(talent_dict, 'talent')\n",
    "\n",
    "    job_max_salary = transformed_job['max_salary']\n",
    "    talent_expected_salary = transformed_talent['salary_expectation']\n",
    "\n",
    "    if talent_expected_salary <= job_max_salary:\n",
    "        return 1\n",
    "    \n",
    "    return 0"
   ]
  },
  {
   "cell_type": "code",
   "execution_count": 100,
   "id": "0dea200d-918a-490f-97d1-7a76e74aa5ce",
   "metadata": {},
   "outputs": [
    {
     "name": "stdout",
     "output_type": "stream",
     "text": [
      "Is salary requirements met? (0 for no / 1 for yes): 0\n"
     ]
    }
   ],
   "source": [
    "print('Is salary requirements met? (0 for no / 1 for yes):', match_salary_from_dict(j_dict, t_dict))"
   ]
  },
  {
   "cell_type": "markdown",
   "id": "8ae1c2b8-d32b-44dc-bee8-e6bd5cd30cd3",
   "metadata": {},
   "source": [
    "## 9. Function to match job roles from dict inputs"
   ]
  },
  {
   "cell_type": "code",
   "execution_count": 101,
   "id": "162ef0a7-4d7b-4e02-a103-7fa4447b3164",
   "metadata": {},
   "outputs": [],
   "source": [
    "def match_job_roles_from_dict(job_dict, talent_dict):\n",
    "\n",
    "    if(check_dict_structure(job_dict, 'job') == 'ok' and check_dict_structure(talent_dict, 'talent') == 'ok'):\n",
    "        pass\n",
    "    else:\n",
    "        raise('error in dict structure')\n",
    "\n",
    "    transformed_job = transform_input(job_dict, 'job')\n",
    "    transformed_talent = transform_input(talent_dict, 'talent')\n",
    "\n",
    "    job_roles = transformed_job['job_roles']\n",
    "    talent_roles = transformed_talent['job_roles']\n",
    "\n",
    "    for role in talent_roles:\n",
    "        if role in job_roles:\n",
    "            return 1\n",
    "    return 0\n",
    "    "
   ]
  },
  {
   "cell_type": "code",
   "execution_count": 108,
   "id": "f5c263a4-9b51-4eff-b658-c04126e96c0d",
   "metadata": {},
   "outputs": [
    {
     "name": "stdout",
     "output_type": "stream",
     "text": [
      "Is job roles requirements met? (0 for no / 1 for yes): 1\n"
     ]
    }
   ],
   "source": [
    "print('Is job roles requirements met? (0 for no / 1 for yes):', match_job_roles_from_dict(j_dict, t_dict))"
   ]
  },
  {
   "cell_type": "markdown",
   "id": "45465dd6-f8c1-41d7-aac9-edf267ca6362",
   "metadata": {},
   "source": [
    "## 10. Creating a dataset of features which would serve as inputs into the model"
   ]
  },
  {
   "cell_type": "code",
   "execution_count": 109,
   "id": "61582c10-93a3-4887-92e4-097f064a5f1b",
   "metadata": {},
   "outputs": [],
   "source": [
    "def create_dataset(j_dict, t_dict):\n",
    "    \n",
    "    seniority_match = match_seniority_from_dict(j_dict, t_dict)\n",
    "    degree_match = match_degree_from_dict(j_dict, t_dict)\n",
    "    salary_match = match_salary_from_dict(j_dict, t_dict)\n",
    "    language_match = match_language_from_dict(j_dict, t_dict)\n",
    "    job_role_match = match_job_roles_from_dict(j_dict, t_dict)\n",
    "\n",
    "    df_match = pd.DataFrame(\n",
    "        {\n",
    "            'seniority_match' : [seniority_match], \n",
    "            'degree_match' : [degree_match], \n",
    "            'salary_match' : [salary_match], \n",
    "            'language_match' : [language_match], \n",
    "            'job_role_match' : [job_role_match]\n",
    "        }\n",
    "    )\n",
    "\n",
    "    input_dict = df_match.to_dict(orient='records')\n",
    "\n",
    "    return input_dict\n",
    "\n",
    "input_data = create_dataset(j_dict, t_dict)\n"
   ]
  },
  {
   "cell_type": "code",
   "execution_count": 111,
   "id": "d91cb6af-fcec-470e-b418-f9381b987fce",
   "metadata": {},
   "outputs": [
    {
     "data": {
      "text/plain": [
       "[{'seniority_match': 1,\n",
       "  'degree_match': 1,\n",
       "  'salary_match': 0,\n",
       "  'language_match': 1,\n",
       "  'job_role_match': 1}]"
      ]
     },
     "execution_count": 111,
     "metadata": {},
     "output_type": "execute_result"
    }
   ],
   "source": [
    "input_data"
   ]
  },
  {
   "cell_type": "markdown",
   "id": "18625ebc-94b9-45cb-898a-b2a234b0f4e4",
   "metadata": {},
   "source": [
    "## 11. Function to create a model prediction"
   ]
  },
  {
   "cell_type": "code",
   "execution_count": 112,
   "id": "c9c2cf48-6dcd-49a3-8257-c81e6250addb",
   "metadata": {},
   "outputs": [],
   "source": [
    "def create_prediction(job, talent):\n",
    "    res = {}\n",
    "    data = create_dataset(job, talent)\n",
    "    label = model.predict(data)[0]\n",
    "    score = model.predict_proba(data)[:, 1][0]\n",
    "    res['talent'] = talent\n",
    "    res['job'] = job\n",
    "    res['label'] = label\n",
    "    res['score'] = score\n",
    "\n",
    "    return res\n",
    "    "
   ]
  },
  {
   "cell_type": "markdown",
   "id": "0efdf669-8ab7-4841-8fdf-06c27eeba8e0",
   "metadata": {},
   "source": [
    "# 12. Function to match single job and talent\n",
    "(as per task requirement from the search.py script)"
   ]
  },
  {
   "cell_type": "code",
   "execution_count": null,
   "id": "2778f245-5f44-4736-84c3-792a8f0d5437",
   "metadata": {},
   "outputs": [],
   "source": [
    "def match(job, talent):\n",
    "        res = {}\n",
    "        data = create_dataset(job, talent)\n",
    "        label = model.predict(data)[0]\n",
    "        score = model.predict_proba(data)[:, 1][0]\n",
    "        res['talent'] = talent\n",
    "        res['job'] = job\n",
    "        res['label'] = label\n",
    "        res['score'] = score\n",
    "    \n",
    "        return res\n",
    "        \n",
    "        pass"
   ]
  },
  {
   "cell_type": "markdown",
   "id": "ceecd965-0f41-4b93-883b-653aa76ccb5e",
   "metadata": {},
   "source": [
    "# 13. Function to match multiple jobs and talents\n",
    "(as per task requirement from the search.py script)"
   ]
  },
  {
   "cell_type": "code",
   "execution_count": null,
   "id": "1dfc96ec-5de0-49d9-9577-eef67c0b8685",
   "metadata": {},
   "outputs": [],
   "source": [
    "def get_match_bulk(jobs, talents):\n",
    "    \n",
    "    final_result = []\n",
    "    \n",
    "    for j in range(len(jobs)):\n",
    "        for t in range(len(talents)):\n",
    "            talents_from_list = talents[t]['talent']\n",
    "            jobs_from_list = jobs[j]['job']\n",
    "            predictions = create_prediction(jobs_from_list, talents_from_list)\n",
    "            final_result.append({'job_index': j, 'talent_index': t, 'prediction': predictions})\n",
    "    \n",
    "    dff = pd.DataFrame(final_result)\n",
    "    dff['score'] = [dff['prediction'][x]['score'] for x in range(0, dff.shape[0])]\n",
    "    dff = dff.sort_values(['job_index', 'score'], ascending=[True, False])\n",
    "    \n",
    "    # match_bulk =  dff[['prediction']].to_dict(orient='records')\n",
    "\n",
    "    match_bulk = [\n",
    "        {\n",
    "            \"talent\": row['prediction']['talent'],\n",
    "            \"job\": row['prediction']['job'],\n",
    "            \"label\": row['prediction']['label'],\n",
    "            \"score\": row['prediction']['score']\n",
    "        }\n",
    "        for _, row in dff.iterrows()\n",
    "    ]\n",
    "\n",
    "    return match_bulk\n"
   ]
  },
  {
   "cell_type": "markdown",
   "id": "2b5f9cc0-5086-42a0-93e6-6678265d4984",
   "metadata": {},
   "source": [
    "## 14. Search Class creation\n",
    "\n",
    "(as per task requirement from the search.py script),"
   ]
  },
  {
   "cell_type": "code",
   "execution_count": 127,
   "id": "c97b5db9-84c3-4285-b338-8590d8f40b42",
   "metadata": {},
   "outputs": [],
   "source": [
    "# Define the Search class with match and match_bulk methods\n",
    "\n",
    "class Search:\n",
    "    def __init__(self) -> None:\n",
    "        pass\n",
    "\n",
    "    def match(self, talent: dict, job: dict) -> dict:\n",
    "        res = {}\n",
    "        data = create_dataset(job, talent)\n",
    "        label = model.predict(data)[0]\n",
    "        score = model.predict_proba(data)[:, 1][0]\n",
    "        res['talent'] = talent\n",
    "        res['job'] = job\n",
    "        res['label'] = label\n",
    "        res['score'] = score\n",
    "        return res\n",
    "\n",
    "    def match_bulk(self, talents: list[dict], jobs: list[dict]) -> list[dict]:\n",
    "        final_result = []\n",
    "        for j in range(len(jobs)):\n",
    "            for t in range(len(talents)):\n",
    "                talents_from_list = talents[t]\n",
    "                jobs_from_list = jobs[j]\n",
    "                predictions = self.match(talents_from_list, jobs_from_list)\n",
    "                final_result.append({'job_index': j, 'talent_index': t, 'prediction': predictions})\n",
    "        \n",
    "        dff = pd.DataFrame(final_result)\n",
    "        dff['score'] = [dff['prediction'][x]['score'] for x in range(dff.shape[0])]\n",
    "        dff = dff.sort_values(['job_index', 'score'], ascending=[True, False])\n",
    "        \n",
    "        match_bulk = [\n",
    "            {\n",
    "                \"talent\": row['prediction']['talent'],\n",
    "                \"job\": row['prediction']['job'],\n",
    "                \"label\": row['prediction']['label'],\n",
    "                \"score\": row['prediction']['score']\n",
    "            }\n",
    "            for _, row in dff.iterrows()\n",
    "        ]\n",
    "    \n",
    "        return match_bulk\n",
    "        "
   ]
  },
  {
   "cell_type": "markdown",
   "id": "616e7fbf-ea2e-4457-9714-d4fe1c4ce3f8",
   "metadata": {},
   "source": [
    "Example talents and jobs data"
   ]
  },
  {
   "cell_type": "code",
   "execution_count": 128,
   "id": "4a2a54ad-cea6-4b22-84d9-c968d9bfebc6",
   "metadata": {},
   "outputs": [],
   "source": [
    "\n",
    "talents = [\n",
    "    {\n",
    "        \"languages\": [{\"title\": \"German\", \"rating\": \"A2\"}, {\"title\": \"English\", \"rating\": \"C1\"}],\n",
    "        \"job_roles\": [\"frontend-developer\"],\n",
    "        \"seniority\": \"midlevel\",\n",
    "        \"salary_expectation\": 50000,\n",
    "        \"degree\": \"bachelor\"\n",
    "    },\n",
    "    # ...\n",
    "]\n",
    "\n",
    "jobs = [\n",
    "    {\n",
    "        \"languages\": [{\"title\": \"German\", \"rating\": \"B2\", \"must_have\": True}, {\"title\": \"English\", \"rating\": \"B2\", \"must_have\": False}],\n",
    "        \"job_roles\": [\"frontend-developer\"],\n",
    "        \"seniorities\": [\"midlevel\"],\n",
    "        \"max_salary\": 70000,\n",
    "        \"min_degree\": \"bachelor\"\n",
    "    },\n",
    "    # ...\n",
    "]\n"
   ]
  },
  {
   "cell_type": "markdown",
   "id": "531c4372-43dc-4f13-b57d-46145ac1712d",
   "metadata": {},
   "source": [
    "# 15. Search class test"
   ]
  },
  {
   "cell_type": "code",
   "execution_count": 131,
   "id": "dff6d832-7c93-43a6-8251-eea7577d6240",
   "metadata": {},
   "outputs": [],
   "source": [
    "# Initialize the Search class\n",
    "search = Search()"
   ]
  },
  {
   "cell_type": "code",
   "execution_count": 132,
   "id": "fd71503d-9caf-404b-8431-ce536bfcacaf",
   "metadata": {},
   "outputs": [
    {
     "name": "stdout",
     "output_type": "stream",
     "text": [
      "Single Match Result:\n"
     ]
    },
    {
     "data": {
      "text/plain": [
       "{'talent': {'languages': [{'title': 'German', 'rating': 'A2'},\n",
       "   {'title': 'English', 'rating': 'C1'}],\n",
       "  'job_roles': ['frontend-developer'],\n",
       "  'seniority': 'midlevel',\n",
       "  'salary_expectation': 50000,\n",
       "  'degree': 'bachelor'},\n",
       " 'job': {'languages': [{'title': 'German', 'rating': 'B2', 'must_have': True},\n",
       "   {'title': 'English', 'rating': 'B2', 'must_have': False}],\n",
       "  'job_roles': ['frontend-developer'],\n",
       "  'seniorities': ['midlevel'],\n",
       "  'max_salary': 70000,\n",
       "  'min_degree': 'bachelor'},\n",
       " 'label': 0,\n",
       " 'score': 0.1621853614355777}"
      ]
     },
     "execution_count": 132,
     "metadata": {},
     "output_type": "execute_result"
    }
   ],
   "source": [
    "# Run match method for a single talent and job\n",
    "result = search.match(talents[0], jobs[0])\n",
    "print(\"Single Match Result:\")\n",
    "result\n"
   ]
  },
  {
   "cell_type": "code",
   "execution_count": 138,
   "id": "5ebd4602-f8a3-44ae-995d-8ef687a90937",
   "metadata": {},
   "outputs": [
    {
     "name": "stdout",
     "output_type": "stream",
     "text": [
      "Bulk Match Result:\n"
     ]
    },
    {
     "data": {
      "text/plain": [
       "[{'talent': {'languages': [{'title': 'German', 'rating': 'A2'},\n",
       "    {'title': 'English', 'rating': 'C1'}],\n",
       "   'job_roles': ['frontend-developer'],\n",
       "   'seniority': 'midlevel',\n",
       "   'salary_expectation': 50000,\n",
       "   'degree': 'bachelor'},\n",
       "  'job': {'languages': [{'title': 'German', 'rating': 'B2', 'must_have': True},\n",
       "    {'title': 'English', 'rating': 'B2', 'must_have': False}],\n",
       "   'job_roles': ['frontend-developer'],\n",
       "   'seniorities': ['midlevel'],\n",
       "   'max_salary': 70000,\n",
       "   'min_degree': 'bachelor'},\n",
       "  'label': 0,\n",
       "  'score': 0.1621853614355777}]"
      ]
     },
     "execution_count": 138,
     "metadata": {},
     "output_type": "execute_result"
    }
   ],
   "source": [
    "# Run match_bulk method for multiple talents and jobs\n",
    "\n",
    "bulk_result = search.match_bulk(talents, jobs)\n",
    "print(\"Bulk Match Result:\")\n",
    "bulk_result"
   ]
  },
  {
   "cell_type": "markdown",
   "id": "505f582f-31ae-473c-89c9-222ad36176b4",
   "metadata": {},
   "source": [
    "# THE END"
   ]
  },
  {
   "cell_type": "code",
   "execution_count": null,
   "id": "51177896-6764-4f08-a227-549f3570b212",
   "metadata": {},
   "outputs": [],
   "source": []
  }
 ],
 "metadata": {
  "kernelspec": {
   "display_name": "Python 3 (ipykernel)",
   "language": "python",
   "name": "python3"
  },
  "language_info": {
   "codemirror_mode": {
    "name": "ipython",
    "version": 3
   },
   "file_extension": ".py",
   "mimetype": "text/x-python",
   "name": "python",
   "nbconvert_exporter": "python",
   "pygments_lexer": "ipython3",
   "version": "3.11.9"
  }
 },
 "nbformat": 4,
 "nbformat_minor": 5
}
